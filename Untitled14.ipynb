{
 "cells": [
  {
   "cell_type": "code",
   "execution_count": 10,
   "metadata": {},
   "outputs": [],
   "source": [
    "#Import all the necessary modules\n",
    "import pandas as pd\n",
    "import warnings\n",
    "warnings.filterwarnings('ignore')\n",
    "%matplotlib inline\n",
    "import random\n",
    "import matplotlib.pyplot as plt\n",
    "import numpy as np\n",
    "import seaborn as sns"
   ]
  },
  {
   "cell_type": "code",
   "execution_count": 11,
   "metadata": {},
   "outputs": [],
   "source": [
    "frequency = pd.read_csv('frequency_domain_features_train.csv')\n",
    "heart_rate = pd.read_csv('heart_rate_non_linear_features_train.csv')\n",
    "time_domain = pd.read_csv('time_domain_features_train.csv')\n",
    "frequency_test = pd.read_csv('frequency_domain_features_test.csv')\n",
    "heart_rate_test = pd.read_csv('heart_rate_non_linear_features_test.csv')\n",
    "time_domain_test = pd.read_csv('time_domain_features_test.csv')"
   ]
  },
  {
   "cell_type": "code",
   "execution_count": 68,
   "metadata": {},
   "outputs": [],
   "source": [
    "df_train = heart_rate.merge(frequency, how = 'inner', on = 'uuid')\n",
    "df_train = df_train.merge(time_domain, how = 'inner', on = 'uuid')\n",
    "df_test = heart_rate_test.merge(frequency_test, how = 'inner', on = 'uuid')\n",
    "df_test = df_test.merge(time_domain_test, how = 'inner', on = 'uuid')"
   ]
  },
  {
   "cell_type": "code",
   "execution_count": 69,
   "metadata": {},
   "outputs": [],
   "source": [
    "conditions = [\n",
    "    (df_train['condition'] == \"no stress\"),\n",
    "    (df_train['condition'] == \"interruption condition\"),\n",
    "    (df_train['condition'] == \"time pressure\" )\n",
    "    ]"
   ]
  },
  {
   "cell_type": "code",
   "execution_count": 70,
   "metadata": {},
   "outputs": [],
   "source": [
    "values = [1,0,-1]"
   ]
  },
  {
   "cell_type": "code",
   "execution_count": 71,
   "metadata": {},
   "outputs": [],
   "source": [
    "df_train['condition2'] = np.select(conditions, values)"
   ]
  },
  {
   "cell_type": "code",
   "execution_count": 72,
   "metadata": {},
   "outputs": [],
   "source": [
    "#95% CI Upper Bound\n",
    "df_train['u_ci_rr'] = df_train['MEAN_RR'] + df_train['SDRR']*2\n",
    "#95% CI Lower Bound\n",
    "df_train['l_ci_rr'] = df_train['MEAN_RR'] - df_train['SDRR']*2"
   ]
  },
  {
   "cell_type": "code",
   "execution_count": 73,
   "metadata": {},
   "outputs": [],
   "source": [
    "#Mean Squared Error\n",
    "df_train['MSSD'] = df_train['RMSSD']**2"
   ]
  },
  {
   "cell_type": "code",
   "execution_count": 62,
   "metadata": {},
   "outputs": [],
   "source": []
  },
  {
   "cell_type": "code",
   "execution_count": 74,
   "metadata": {},
   "outputs": [],
   "source": [
    "df_train = df_train.drop(['uuid','datasetId','condition','datasetId','SD1','SKEW_REL_RR','KURT_REL_RR',\n",
    "                    'SDSD_REL_RR', 'SDRR', 'HF_NU','SDSD','HF'], axis = 1)\n",
    "df_test = df_test.drop(['uuid','datasetId','condition','datasetId','SD1','SKEW_REL_RR','KURT_REL_RR',\n",
    "                    'SDSD_REL_RR', 'SDRR', 'HF_NU','SDSD','HF'], axis=1)"
   ]
  },
  {
   "cell_type": "code",
   "execution_count": 75,
   "metadata": {},
   "outputs": [],
   "source": [
    "from sklearn.model_selection import train_test_split\n",
    "from sklearn.model_selection import KFold\n",
    "from sklearn.model_selection import cross_val_score"
   ]
  },
  {
   "cell_type": "code",
   "execution_count": 76,
   "metadata": {},
   "outputs": [],
   "source": [
    "X = df_train.drop(\"HR\",axis=1)\n",
    "y = df_train[\"HR\"]"
   ]
  },
  {
   "cell_type": "code",
   "execution_count": 77,
   "metadata": {},
   "outputs": [],
   "source": [
    "X_train, X_val, y_train, y_val = train_test_split(X, y, test_size=0.1, random_state=1)"
   ]
  },
  {
   "cell_type": "code",
   "execution_count": 78,
   "metadata": {},
   "outputs": [
    {
     "name": "stdout",
     "output_type": "stream",
     "text": [
      "0.9809201312408211\n",
      "0.9810980958337947\n",
      "0.9810832402761693\n",
      "1.4153103540629297\n",
      "2.0031033983177355\n",
      "0.9542246953996778\n"
     ]
    }
   ],
   "source": [
    "from sklearn.metrics import mean_squared_error, r2_score, mean_absolute_error\n",
    "from sklearn.linear_model import Lasso, Ridge, LinearRegression \n",
    "lr = LinearRegression()\n",
    "lr.fit(X_train, y_train)\n",
    "y_pred_lr = lr.predict(X_val)\n",
    "\n",
    "\n",
    "print(lr.score(X_train, y_train))\n",
    "print(r2_score(y_val, y_pred_lr))\n",
    "print(1-(1-(r2_score(y_val, y_pred_lr)))*(len(y_val)-1)/(len(y_val)-len(X_val.columns)-1))\n",
    "print(np.sqrt(mean_squared_error(y_val, y_pred_lr)))\n",
    "print(mean_squared_error(y_val, y_pred_lr))\n",
    "print(mean_absolute_error(y_val, y_pred_lr))"
   ]
  },
  {
   "cell_type": "code",
   "execution_count": 92,
   "metadata": {},
   "outputs": [
    {
     "name": "stdout",
     "output_type": "stream",
     "text": [
      "Train R2 score:  0.999999389143428\n",
      "Validation R2 score:  0.9999979332303084\n"
     ]
    }
   ],
   "source": [
    "from sklearn.ensemble import RandomForestRegressor\n",
    "from sklearn.metrics import mean_squared_error, r2_score, mean_absolute_error\n",
    "rf=RandomForestRegressor(random_state=1, n_estimators=150, max_depth=50)\n",
    "rf.fit(X_train,y_train)\n",
    "#rf.score(X_train,y_train)\n",
    "y_pred_rf_train=rf.predict(X_train)\n",
    "y_pred_rf_val=rf.predict(X_val)\n",
    "print('Train R2 score: ', r2_score(y_train,y_pred_rf_train))\n",
    "print('Validation R2 score: ', r2_score(y_val,y_pred_rf_val))"
   ]
  },
  {
   "cell_type": "code",
   "execution_count": 93,
   "metadata": {},
   "outputs": [
    {
     "data": {
      "text/html": [
       "<div>\n",
       "<style scoped>\n",
       "    .dataframe tbody tr th:only-of-type {\n",
       "        vertical-align: middle;\n",
       "    }\n",
       "\n",
       "    .dataframe tbody tr th {\n",
       "        vertical-align: top;\n",
       "    }\n",
       "\n",
       "    .dataframe thead th {\n",
       "        text-align: right;\n",
       "    }\n",
       "</style>\n",
       "<table border=\"1\" class=\"dataframe\">\n",
       "  <thead>\n",
       "    <tr style=\"text-align: right;\">\n",
       "      <th></th>\n",
       "      <th>Method</th>\n",
       "      <th>RMSE</th>\n",
       "      <th>MSE</th>\n",
       "      <th>MAE</th>\n",
       "      <th>R2</th>\n",
       "      <th>Adj_R2</th>\n",
       "    </tr>\n",
       "  </thead>\n",
       "  <tbody>\n",
       "    <tr>\n",
       "      <th>0</th>\n",
       "      <td>Random Forest Validation</td>\n",
       "      <td>0.014799</td>\n",
       "      <td>0.000219</td>\n",
       "      <td>0.005201</td>\n",
       "      <td>0.999998</td>\n",
       "      <td>0.999998</td>\n",
       "    </tr>\n",
       "  </tbody>\n",
       "</table>\n",
       "</div>"
      ],
      "text/plain": [
       "                     Method      RMSE       MSE       MAE        R2    Adj_R2\n",
       "0  Random Forest Validation  0.014799  0.000219  0.005201  0.999998  0.999998"
      ]
     },
     "execution_count": 93,
     "metadata": {},
     "output_type": "execute_result"
    }
   ],
   "source": [
    "rmse_rf = np.sqrt(mean_squared_error(y_val, y_pred_rf_val))\n",
    "mse_rf = mean_squared_error(y_val, y_pred_rf_val)\n",
    "mae_rf = mean_absolute_error(y_val, y_pred_rf_val)\n",
    "r2_rf = r2_score(y_val, y_pred_rf_val)\n",
    "adjr2_rf = 1-(1-r2_rf)*(len(y_val)-1)/(len(y_val)-len(X_val.columns)-1)\n",
    "\n",
    "resultsDf1 = pd.DataFrame({'Method':['Random Forest Validation'], 'RMSE': rmse_rf , 'MSE': mse_rf , 'MAE': mae_rf ,\"R2\": r2_rf, 'Adj_R2': adjr2_rf})\n",
    "resultsDf1"
   ]
  },
  {
   "cell_type": "code",
   "execution_count": 101,
   "metadata": {},
   "outputs": [
    {
     "name": "stdout",
     "output_type": "stream",
     "text": [
      "1.0\n",
      "0.9999915775294835\n",
      "0.9999915709100183\n",
      "0.029875738889011103\n",
      "0.0008925597741643703\n",
      "0.010511454177467596\n"
     ]
    }
   ],
   "source": [
    "from sklearn.tree import DecisionTreeRegressor\n",
    "dt = DecisionTreeRegressor(random_state=1)\n",
    "dt.fit(X_train, y_train)\n",
    "y_pred_dt = dt.predict(X_val)\n",
    "\n",
    "\n",
    "print(dt.score(X_train, y_train))\n",
    "print(r2_score(y_val, y_pred_dt))\n",
    "print(1-(1-(r2_score(y_val, y_pred_dt)))*(len(y_val)-1)/(len(y_val)-len(X_val.columns)-1))\n",
    "print(np.sqrt(mean_squared_error(y_val, y_pred_dt)))\n",
    "print(mean_squared_error(y_val, y_pred_dt))\n",
    "print(mean_absolute_error(y_val, y_pred_dt))"
   ]
  },
  {
   "cell_type": "code",
   "execution_count": 79,
   "metadata": {},
   "outputs": [
    {
     "name": "stdout",
     "output_type": "stream",
     "text": [
      "0.9997513664965546\n",
      "0.9995528957674923\n",
      "0.9995525443752393\n",
      "0.217672365046973\n",
      "0.047381258505142666\n",
      "0.09865732522963552\n"
     ]
    }
   ],
   "source": [
    "#KNN\n",
    "from sklearn.neighbors import KNeighborsRegressor\n",
    "knn = KNeighborsRegressor()\n",
    "knn.fit(X_train, y_train)\n",
    "y_pred_knn = knn.predict(X_val)\n",
    "\n",
    "\n",
    "print(knn.score(X_train, y_train))\n",
    "print(r2_score(y_val, y_pred_knn))\n",
    "print(1-(1-(r2_score(y_val, y_pred_knn)))*(len(y_val)-1)/(len(y_val)-len(X_val.columns)-1))\n",
    "print(np.sqrt(mean_squared_error(y_val, y_pred_knn)))\n",
    "print(mean_squared_error(y_val, y_pred_knn))\n",
    "print(mean_absolute_error(y_val, y_pred_knn))"
   ]
  },
  {
   "cell_type": "code",
   "execution_count": 80,
   "metadata": {},
   "outputs": [
    {
     "name": "stdout",
     "output_type": "stream",
     "text": [
      "0.9999981154495535\n",
      "0.9999953949669379\n",
      "0.9999953913477081\n",
      "0.02209099522067354\n",
      "0.0004880120698398212\n",
      "0.0074152017177500475\n"
     ]
    }
   ],
   "source": [
    "from sklearn.ensemble import AdaBoostRegressor, BaggingRegressor, RandomForestRegressor, GradientBoostingRegressor\n",
    "bg = BaggingRegressor(random_state=1)\n",
    "bg.fit(X_train, y_train)\n",
    "y_pred_bg = bg.predict(X_val)\n",
    "\n",
    "\n",
    "print(bg.score(X_train, y_train))\n",
    "print(r2_score(y_val, y_pred_bg))\n",
    "print(1-(1-(r2_score(y_val, y_pred_bg)))*(len(y_val)-1)/(len(y_val)-len(X_val.columns)-1))\n",
    "print(np.sqrt(mean_squared_error(y_val, y_pred_bg)))\n",
    "print(mean_squared_error(y_val, y_pred_bg))\n",
    "print(mean_absolute_error(y_val, y_pred_bg))"
   ]
  },
  {
   "cell_type": "code",
   "execution_count": null,
   "metadata": {},
   "outputs": [],
   "source": []
  },
  {
   "cell_type": "code",
   "execution_count": null,
   "metadata": {},
   "outputs": [],
   "source": []
  },
  {
   "cell_type": "code",
   "execution_count": null,
   "metadata": {},
   "outputs": [],
   "source": []
  },
  {
   "cell_type": "code",
   "execution_count": null,
   "metadata": {},
   "outputs": [],
   "source": []
  },
  {
   "cell_type": "code",
   "execution_count": null,
   "metadata": {},
   "outputs": [],
   "source": []
  },
  {
   "cell_type": "code",
   "execution_count": null,
   "metadata": {},
   "outputs": [],
   "source": []
  },
  {
   "cell_type": "code",
   "execution_count": null,
   "metadata": {},
   "outputs": [],
   "source": [
    "from sklearn.ensemble import VotingRegressor\n",
    "from sklearn.ensemble import VotingRegressor\n",
    "\n",
    "er = VotingRegressor([('rfr', rf), ('bg', bg), ('dt', dt)])\n",
    "ertrain = er.fit(X_train, y_train)\n",
    "print(ertrain.score(X_train, y_train, sample_weight=None))\n",
    "print(ertrain.score(X_val, y_val, sample_weight=None))\n",
    "\n",
    "\n",
    "er_MAE_train = mean_absolute_error(y_train, ertrain.predict(X_train))    \n",
    "print(er_MAE_train)\n",
    "er_MAE_val = mean_absolute_error(y_val, ertrain.predict(X_val))    \n",
    "print(er_MAE_val)"
   ]
  },
  {
   "cell_type": "code",
   "execution_count": 98,
   "metadata": {},
   "outputs": [],
   "source": [
    "def blend_models_predict(X):\n",
    "    return ((0.0 * lr.predict(X_val)) + \\\n",
    "            (1.0 * rf.predict(X_val)) + \\\n",
    "            (0.0 * bg.predict(X_val)) + \\\n",
    "      #      (0.0 * dt.predict(X_val)) + \\\n",
    "      #      (0.0 * er.predict(X_val)) + \\\n",
    "            (0.0 * knn.predict(X_val))) \n",
    "       #     (0.0 * xgb.predict(X_val)) + \\\n",
    "        #    (0.0 * lgbm.predict(X_val)))"
   ]
  },
  {
   "cell_type": "code",
   "execution_count": 99,
   "metadata": {},
   "outputs": [
    {
     "name": "stdout",
     "output_type": "stream",
     "text": [
      "0.005200827409245131\n"
     ]
    }
   ],
   "source": [
    "print(mean_absolute_error(y_val, blend_models_predict(X)))"
   ]
  },
  {
   "cell_type": "code",
   "execution_count": null,
   "metadata": {},
   "outputs": [],
   "source": []
  }
 ],
 "metadata": {
  "kernelspec": {
   "display_name": "Python 3",
   "language": "python",
   "name": "python3"
  },
  "language_info": {
   "codemirror_mode": {
    "name": "ipython",
    "version": 3
   },
   "file_extension": ".py",
   "mimetype": "text/x-python",
   "name": "python",
   "nbconvert_exporter": "python",
   "pygments_lexer": "ipython3",
   "version": "3.8.3"
  }
 },
 "nbformat": 4,
 "nbformat_minor": 4
}
