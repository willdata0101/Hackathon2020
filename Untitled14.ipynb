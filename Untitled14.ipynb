{
 "cells": [
  {
   "cell_type": "code",
   "execution_count": 10,
   "metadata": {},
   "outputs": [],
   "source": [
    "#Import all the necessary modules\n",
    "import pandas as pd\n",
    "import warnings\n",
    "warnings.filterwarnings('ignore')\n",
    "%matplotlib inline\n",
    "import random\n",
    "import matplotlib.pyplot as plt\n",
    "import numpy as np\n",
    "import seaborn as sns"
   ]
  },
  {
   "cell_type": "code",
   "execution_count": 11,
   "metadata": {},
   "outputs": [],
   "source": [
    "frequency = pd.read_csv('frequency_domain_features_train.csv')\n",
    "heart_rate = pd.read_csv('heart_rate_non_linear_features_train.csv')\n",
    "time_domain = pd.read_csv('time_domain_features_train.csv')\n",
    "frequency_test = pd.read_csv('frequency_domain_features_test.csv')\n",
    "heart_rate_test = pd.read_csv('heart_rate_non_linear_features_test.csv')\n",
    "time_domain_test = pd.read_csv('time_domain_features_test.csv')"
   ]
  },
  {
   "cell_type": "code",
   "execution_count": 68,
   "metadata": {},
   "outputs": [],
   "source": [
    "df_train = heart_rate.merge(frequency, how = 'inner', on = 'uuid')\n",
    "df_train = df_train.merge(time_domain, how = 'inner', on = 'uuid')\n",
    "df_test = heart_rate_test.merge(frequency_test, how = 'inner', on = 'uuid')\n",
    "df_test = df_test.merge(time_domain_test, how = 'inner', on = 'uuid')"
   ]
  },
  {
   "cell_type": "code",
   "execution_count": 69,
   "metadata": {},
   "outputs": [],
   "source": [
    "conditions = [\n",
    "    (df_train['condition'] == \"no stress\"),\n",
    "    (df_train['condition'] == \"interruption condition\"),\n",
    "    (df_train['condition'] == \"time pressure\" )\n",
    "    ]"
   ]
  },
  {
   "cell_type": "code",
   "execution_count": 70,
   "metadata": {},
   "outputs": [],
   "source": [
    "values = [1,0,-1]"
   ]
  },
  {
   "cell_type": "code",
   "execution_count": 71,
   "metadata": {},
   "outputs": [],
   "source": [
    "df_train['condition2'] = np.select(conditions, values)"
   ]
  },
  {
   "cell_type": "code",
   "execution_count": 72,
   "metadata": {},
   "outputs": [],
   "source": [
    "#95% CI Upper Bound\n",
    "df_train['u_ci_rr'] = df_train['MEAN_RR'] + df_train['SDRR']*2\n",
    "#95% CI Lower Bound\n",
    "df_train['l_ci_rr'] = df_train['MEAN_RR'] - df_train['SDRR']*2"
   ]
  },
  {
   "cell_type": "code",
   "execution_count": 73,
   "metadata": {},
   "outputs": [],
   "source": [
    "#Mean Squared Error\n",
    "df_train['MSSD'] = df_train['RMSSD']**2"
   ]
  },
  {
   "cell_type": "code",
   "execution_count": 178,
   "metadata": {},
   "outputs": [],
   "source": [
    "#Corrections made to test data concerning feature engineering\n",
    "\n",
    "\n",
    "df_test = heart_rate_test.merge(frequency_test, how = 'inner', on = 'uuid')\n",
    "df_test = df_test.merge(time_domain_test, how = 'inner', on = 'uuid')\n",
    "\n",
    "conditions = [\n",
    "    (df_test['condition'] == \"no stress\"),\n",
    "    (df_test['condition'] == \"interruption condition\"),\n",
    "    (df_test['condition'] == \"time pressure\" )\n",
    "    ]\n",
    "\n",
    "values = [1,0,-1]\n",
    "\n",
    "df_test['condition2'] = np.select(conditions, values)\n",
    "\n",
    "#95% CI Upper Bound\n",
    "df_test['u_ci_rr'] = df_test['MEAN_RR'] + df_test['SDRR']*2\n",
    "#95% CI Lower Bound\n",
    "df_test['l_ci_rr'] = df_test['MEAN_RR'] - df_test['SDRR']*2\n",
    "#Mean Squared Error\n",
    "df_test['MSSD'] = df_test['RMSSD']**2\n",
    "\n",
    "df_test = df_test.set_index('uuid', drop=False)\n",
    "\n",
    "\n",
    "df_test = df_test.drop(['datasetId','condition','datasetId','SD1','SKEW_REL_RR','KURT_REL_RR',\n",
    "                    'SDSD_REL_RR', 'SDRR', 'HF_NU','SDSD','HF'], axis=1)\n"
   ]
  },
  {
   "cell_type": "code",
   "execution_count": 74,
   "metadata": {},
   "outputs": [],
   "source": [
    "df_train = df_train.drop(['uuid','datasetId','condition','datasetId','SD1','SKEW_REL_RR','KURT_REL_RR',\n",
    "                    'SDSD_REL_RR', 'SDRR', 'HF_NU','SDSD','HF'], axis = 1)\n",
    "df_test = df_test.drop(['uuid','datasetId','condition','datasetId','SD1','SKEW_REL_RR','KURT_REL_RR',\n",
    "                    'SDSD_REL_RR', 'SDRR', 'HF_NU','SDSD','HF'], axis=1)"
   ]
  },
  {
   "cell_type": "code",
   "execution_count": 75,
   "metadata": {},
   "outputs": [],
   "source": [
    "from sklearn.model_selection import train_test_split\n",
    "from sklearn.model_selection import KFold\n",
    "from sklearn.model_selection import cross_val_score"
   ]
  },
  {
   "cell_type": "code",
   "execution_count": 76,
   "metadata": {},
   "outputs": [],
   "source": [
    "X = df_train.drop(\"HR\",axis=1)\n",
    "y = df_train[\"HR\"]"
   ]
  },
  {
   "cell_type": "code",
   "execution_count": 77,
   "metadata": {},
   "outputs": [],
   "source": [
    "X_train, X_val, y_train, y_val = train_test_split(X, y, test_size=0.1, random_state=1)"
   ]
  },
  {
   "cell_type": "code",
   "execution_count": 78,
   "metadata": {},
   "outputs": [
    {
     "name": "stdout",
     "output_type": "stream",
     "text": [
      "0.9809201312408211\n",
      "0.9810980958337947\n",
      "0.9810832402761693\n",
      "1.4153103540629297\n",
      "2.0031033983177355\n",
      "0.9542246953996778\n"
     ]
    }
   ],
   "source": [
    "from sklearn.metrics import mean_squared_error, r2_score, mean_absolute_error\n",
    "from sklearn.linear_model import Lasso, Ridge, LinearRegression \n",
    "lr = LinearRegression()\n",
    "lr.fit(X_train, y_train)\n",
    "y_pred_lr = lr.predict(X_val)\n",
    "\n",
    "\n",
    "print(lr.score(X_train, y_train))\n",
    "print(r2_score(y_val, y_pred_lr))\n",
    "print(1-(1-(r2_score(y_val, y_pred_lr)))*(len(y_val)-1)/(len(y_val)-len(X_val.columns)-1))\n",
    "print(np.sqrt(mean_squared_error(y_val, y_pred_lr)))\n",
    "print(mean_squared_error(y_val, y_pred_lr))\n",
    "print(mean_absolute_error(y_val, y_pred_lr))"
   ]
  },
  {
   "cell_type": "code",
   "execution_count": 92,
   "metadata": {},
   "outputs": [
    {
     "name": "stdout",
     "output_type": "stream",
     "text": [
      "Train R2 score:  0.999999389143428\n",
      "Validation R2 score:  0.9999979332303084\n"
     ]
    }
   ],
   "source": [
    "from sklearn.ensemble import RandomForestRegressor\n",
    "from sklearn.metrics import mean_squared_error, r2_score, mean_absolute_error\n",
    "rf=RandomForestRegressor(random_state=1, n_estimators=150, max_depth=50)\n",
    "rf.fit(X_train,y_train)\n",
    "#rf.score(X_train,y_train)\n",
    "y_pred_rf_train=rf.predict(X_train)\n",
    "y_pred_rf_val=rf.predict(X_val)\n",
    "print('Train R2 score: ', r2_score(y_train,y_pred_rf_train))\n",
    "print('Validation R2 score: ', r2_score(y_val,y_pred_rf_val))"
   ]
  },
  {
   "cell_type": "code",
   "execution_count": 93,
   "metadata": {},
   "outputs": [
    {
     "data": {
      "text/html": [
       "<div>\n",
       "<style scoped>\n",
       "    .dataframe tbody tr th:only-of-type {\n",
       "        vertical-align: middle;\n",
       "    }\n",
       "\n",
       "    .dataframe tbody tr th {\n",
       "        vertical-align: top;\n",
       "    }\n",
       "\n",
       "    .dataframe thead th {\n",
       "        text-align: right;\n",
       "    }\n",
       "</style>\n",
       "<table border=\"1\" class=\"dataframe\">\n",
       "  <thead>\n",
       "    <tr style=\"text-align: right;\">\n",
       "      <th></th>\n",
       "      <th>Method</th>\n",
       "      <th>RMSE</th>\n",
       "      <th>MSE</th>\n",
       "      <th>MAE</th>\n",
       "      <th>R2</th>\n",
       "      <th>Adj_R2</th>\n",
       "    </tr>\n",
       "  </thead>\n",
       "  <tbody>\n",
       "    <tr>\n",
       "      <th>0</th>\n",
       "      <td>Random Forest Validation</td>\n",
       "      <td>0.014799</td>\n",
       "      <td>0.000219</td>\n",
       "      <td>0.005201</td>\n",
       "      <td>0.999998</td>\n",
       "      <td>0.999998</td>\n",
       "    </tr>\n",
       "  </tbody>\n",
       "</table>\n",
       "</div>"
      ],
      "text/plain": [
       "                     Method      RMSE       MSE       MAE        R2    Adj_R2\n",
       "0  Random Forest Validation  0.014799  0.000219  0.005201  0.999998  0.999998"
      ]
     },
     "execution_count": 93,
     "metadata": {},
     "output_type": "execute_result"
    }
   ],
   "source": [
    "rmse_rf = np.sqrt(mean_squared_error(y_val, y_pred_rf_val))\n",
    "mse_rf = mean_squared_error(y_val, y_pred_rf_val)\n",
    "mae_rf = mean_absolute_error(y_val, y_pred_rf_val)\n",
    "r2_rf = r2_score(y_val, y_pred_rf_val)\n",
    "adjr2_rf = 1-(1-r2_rf)*(len(y_val)-1)/(len(y_val)-len(X_val.columns)-1)\n",
    "\n",
    "resultsDf1 = pd.DataFrame({'Method':['Random Forest Validation'], 'RMSE': rmse_rf , 'MSE': mse_rf , 'MAE': mae_rf ,\"R2\": r2_rf, 'Adj_R2': adjr2_rf})\n",
    "resultsDf1"
   ]
  },
  {
   "cell_type": "code",
   "execution_count": 101,
   "metadata": {},
   "outputs": [
    {
     "name": "stdout",
     "output_type": "stream",
     "text": [
      "1.0\n",
      "0.9999915775294835\n",
      "0.9999915709100183\n",
      "0.029875738889011103\n",
      "0.0008925597741643703\n",
      "0.010511454177467596\n"
     ]
    }
   ],
   "source": [
    "from sklearn.tree import DecisionTreeRegressor\n",
    "dt = DecisionTreeRegressor(random_state=1)\n",
    "dt.fit(X_train, y_train)\n",
    "y_pred_dt = dt.predict(X_val)\n",
    "\n",
    "\n",
    "print(dt.score(X_train, y_train))\n",
    "print(r2_score(y_val, y_pred_dt))\n",
    "print(1-(1-(r2_score(y_val, y_pred_dt)))*(len(y_val)-1)/(len(y_val)-len(X_val.columns)-1))\n",
    "print(np.sqrt(mean_squared_error(y_val, y_pred_dt)))\n",
    "print(mean_squared_error(y_val, y_pred_dt))\n",
    "print(mean_absolute_error(y_val, y_pred_dt))"
   ]
  },
  {
   "cell_type": "code",
   "execution_count": 79,
   "metadata": {},
   "outputs": [
    {
     "name": "stdout",
     "output_type": "stream",
     "text": [
      "0.9997513664965546\n",
      "0.9995528957674923\n",
      "0.9995525443752393\n",
      "0.217672365046973\n",
      "0.047381258505142666\n",
      "0.09865732522963552\n"
     ]
    }
   ],
   "source": [
    "#KNN\n",
    "from sklearn.neighbors import KNeighborsRegressor\n",
    "knn = KNeighborsRegressor()\n",
    "knn.fit(X_train, y_train)\n",
    "y_pred_knn = knn.predict(X_val)\n",
    "\n",
    "\n",
    "print(knn.score(X_train, y_train))\n",
    "print(r2_score(y_val, y_pred_knn))\n",
    "print(1-(1-(r2_score(y_val, y_pred_knn)))*(len(y_val)-1)/(len(y_val)-len(X_val.columns)-1))\n",
    "print(np.sqrt(mean_squared_error(y_val, y_pred_knn)))\n",
    "print(mean_squared_error(y_val, y_pred_knn))\n",
    "print(mean_absolute_error(y_val, y_pred_knn))"
   ]
  },
  {
   "cell_type": "code",
   "execution_count": 80,
   "metadata": {},
   "outputs": [
    {
     "name": "stdout",
     "output_type": "stream",
     "text": [
      "0.9999981154495535\n",
      "0.9999953949669379\n",
      "0.9999953913477081\n",
      "0.02209099522067354\n",
      "0.0004880120698398212\n",
      "0.0074152017177500475\n"
     ]
    }
   ],
   "source": [
    "from sklearn.ensemble import AdaBoostRegressor, BaggingRegressor, RandomForestRegressor, GradientBoostingRegressor\n",
    "bg = BaggingRegressor(random_state=1)\n",
    "bg.fit(X_train, y_train)\n",
    "y_pred_bg = bg.predict(X_val)\n",
    "\n",
    "\n",
    "print(bg.score(X_train, y_train))\n",
    "print(r2_score(y_val, y_pred_bg))\n",
    "print(1-(1-(r2_score(y_val, y_pred_bg)))*(len(y_val)-1)/(len(y_val)-len(X_val.columns)-1))\n",
    "print(np.sqrt(mean_squared_error(y_val, y_pred_bg)))\n",
    "print(mean_squared_error(y_val, y_pred_bg))\n",
    "print(mean_absolute_error(y_val, y_pred_bg))"
   ]
  },
  {
   "cell_type": "code",
   "execution_count": null,
   "metadata": {},
   "outputs": [],
   "source": []
  },
  {
   "cell_type": "code",
   "execution_count": null,
   "metadata": {},
   "outputs": [],
   "source": []
  },
  {
   "cell_type": "code",
   "execution_count": null,
   "metadata": {},
   "outputs": [],
   "source": []
  },
  {
   "cell_type": "code",
   "execution_count": null,
   "metadata": {},
   "outputs": [],
   "source": []
  },
  {
   "cell_type": "code",
   "execution_count": null,
   "metadata": {},
   "outputs": [],
   "source": []
  },
  {
   "cell_type": "code",
   "execution_count": null,
   "metadata": {},
   "outputs": [],
   "source": [
    "from vecstack import stacking\n",
    "models= [LinearRegression()]"
   ]
  },
  {
   "cell_type": "code",
   "execution_count": 102,
   "metadata": {},
   "outputs": [
    {
     "name": "stdout",
     "output_type": "stream",
     "text": [
      "0.9999995768787434\n",
      "0.9999970503669071\n",
      "0.0016866147149300096\n",
      "0.00601443111314475\n"
     ]
    }
   ],
   "source": [
    "from sklearn.ensemble import VotingRegressor\n",
    "from sklearn.ensemble import VotingRegressor\n",
    "\n",
    "er = VotingRegressor([('rfr', rf), ('bg', bg), ('dt', dt)])\n",
    "ertrain = er.fit(X_train, y_train)\n",
    "print(ertrain.score(X_train, y_train, sample_weight=None))\n",
    "print(ertrain.score(X_val, y_val, sample_weight=None))\n",
    "\n",
    "\n",
    "er_MAE_train = mean_absolute_error(y_train, ertrain.predict(X_train))    \n",
    "print(er_MAE_train)\n",
    "er_MAE_val = mean_absolute_error(y_val, ertrain.predict(X_val))    \n",
    "print(er_MAE_val)"
   ]
  },
  {
   "cell_type": "code",
   "execution_count": 109,
   "metadata": {},
   "outputs": [],
   "source": [
    "def blend_models_predict(X):\n",
    "    return ((0.0 * lr.predict(X_val)) + \\\n",
    "            (0.8 * rf.predict(X_val)) + \\\n",
    "            (0.0 * bg.predict(X_val)) + \\\n",
    "      #      (0.0 * dt.predict(X_val)) + \\\n",
    "            (0.2 * er.predict(X_val)) + \\\n",
    "            (0.0 * knn.predict(X_val))) \n",
    "       #     (0.0 * xgb.predict(X_val)) + \\\n",
    "        #    (0.0 * lgbm.predict(X_val)))"
   ]
  },
  {
   "cell_type": "code",
   "execution_count": 110,
   "metadata": {},
   "outputs": [
    {
     "name": "stdout",
     "output_type": "stream",
     "text": [
      "0.005165170165846819\n"
     ]
    }
   ],
   "source": [
    "print(mean_absolute_error(y_val, blend_models_predict(X)))"
   ]
  },
  {
   "cell_type": "code",
   "execution_count": 164,
   "metadata": {},
   "outputs": [
    {
     "data": {
      "text/plain": [
       "array([67.9255005 , 76.95742216, 76.08660653, ..., 79.05373335,\n",
       "       71.65317812, 78.671785  ])"
      ]
     },
     "execution_count": 164,
     "metadata": {},
     "output_type": "execute_result"
    }
   ],
   "source": [
    "blend_models_predict(X)"
   ]
  },
  {
   "cell_type": "code",
   "execution_count": 117,
   "metadata": {},
   "outputs": [
    {
     "data": {
      "text/plain": [
       "array([67.92556434, 76.95736514, 76.08619979, ..., 79.05451566,\n",
       "       71.653278  , 78.67240094])"
      ]
     },
     "execution_count": 117,
     "metadata": {},
     "output_type": "execute_result"
    }
   ],
   "source": [
    "y_pred_rf_val"
   ]
  },
  {
   "cell_type": "code",
   "execution_count": 144,
   "metadata": {},
   "outputs": [
    {
     "data": {
      "text/plain": [
       "Index(['SD2', 'sampen', 'higuci', 'VLF', 'VLF_PCT', 'LF', 'LF_PCT', 'LF_NU',\n",
       "       'HF_PCT', 'TP', 'LF_HF', 'HF_LF', 'MEAN_RR', 'MEDIAN_RR', 'RMSSD',\n",
       "       'SDRR_RMSSD', 'HR', 'pNN25', 'pNN50', 'KURT', 'SKEW', 'MEAN_REL_RR',\n",
       "       'MEDIAN_REL_RR', 'SDRR_REL_RR', 'RMSSD_REL_RR', 'SDRR_RMSSD_REL_RR',\n",
       "       'condition2', 'u_ci_rr', 'l_ci_rr', 'MSSD'],\n",
       "      dtype='object')"
      ]
     },
     "execution_count": 144,
     "metadata": {},
     "output_type": "execute_result"
    }
   ],
   "source": [
    "df_train.columns"
   ]
  },
  {
   "cell_type": "code",
   "execution_count": 146,
   "metadata": {},
   "outputs": [
    {
     "data": {
      "text/plain": [
       "Index(['SD2', 'sampen', 'higuci', 'VLF', 'VLF_PCT', 'LF', 'LF_PCT', 'LF_NU',\n",
       "       'HF_PCT', 'TP', 'LF_HF', 'HF_LF', 'MEAN_RR', 'MEDIAN_RR', 'RMSSD',\n",
       "       'SDRR_RMSSD', 'pNN25', 'pNN50', 'KURT', 'SKEW', 'MEAN_REL_RR',\n",
       "       'MEDIAN_REL_RR', 'SDRR_REL_RR', 'RMSSD_REL_RR', 'SDRR_RMSSD_REL_RR',\n",
       "       'condition2', 'u_ci_rr', 'l_ci_rr', 'MSSD', 'HR'],\n",
       "      dtype='object')"
      ]
     },
     "execution_count": 146,
     "metadata": {},
     "output_type": "execute_result"
    }
   ],
   "source": [
    "df_test.columns"
   ]
  },
  {
   "cell_type": "code",
   "execution_count": 166,
   "metadata": {},
   "outputs": [
    {
     "data": {
      "text/html": [
       "<div>\n",
       "<style scoped>\n",
       "    .dataframe tbody tr th:only-of-type {\n",
       "        vertical-align: middle;\n",
       "    }\n",
       "\n",
       "    .dataframe tbody tr th {\n",
       "        vertical-align: top;\n",
       "    }\n",
       "\n",
       "    .dataframe thead th {\n",
       "        text-align: right;\n",
       "    }\n",
       "</style>\n",
       "<table border=\"1\" class=\"dataframe\">\n",
       "  <thead>\n",
       "    <tr style=\"text-align: right;\">\n",
       "      <th></th>\n",
       "      <th>HR</th>\n",
       "      <th>predictedHR_RF</th>\n",
       "    </tr>\n",
       "  </thead>\n",
       "  <tbody>\n",
       "    <tr>\n",
       "      <th>47340</th>\n",
       "      <td>67.923866</td>\n",
       "      <td>67.925501</td>\n",
       "    </tr>\n",
       "    <tr>\n",
       "      <th>93858</th>\n",
       "      <td>76.960355</td>\n",
       "      <td>76.957422</td>\n",
       "    </tr>\n",
       "    <tr>\n",
       "      <th>201163</th>\n",
       "      <td>76.086628</td>\n",
       "      <td>76.086607</td>\n",
       "    </tr>\n",
       "    <tr>\n",
       "      <th>364634</th>\n",
       "      <td>74.739285</td>\n",
       "      <td>74.731666</td>\n",
       "    </tr>\n",
       "    <tr>\n",
       "      <th>54177</th>\n",
       "      <td>92.082130</td>\n",
       "      <td>92.090544</td>\n",
       "    </tr>\n",
       "    <tr>\n",
       "      <th>...</th>\n",
       "      <td>...</td>\n",
       "      <td>...</td>\n",
       "    </tr>\n",
       "    <tr>\n",
       "      <th>38102</th>\n",
       "      <td>56.797168</td>\n",
       "      <td>56.794819</td>\n",
       "    </tr>\n",
       "    <tr>\n",
       "      <th>281611</th>\n",
       "      <td>70.558553</td>\n",
       "      <td>70.559087</td>\n",
       "    </tr>\n",
       "    <tr>\n",
       "      <th>100095</th>\n",
       "      <td>79.060016</td>\n",
       "      <td>79.053733</td>\n",
       "    </tr>\n",
       "    <tr>\n",
       "      <th>30098</th>\n",
       "      <td>71.649756</td>\n",
       "      <td>71.653178</td>\n",
       "    </tr>\n",
       "    <tr>\n",
       "      <th>29417</th>\n",
       "      <td>78.675666</td>\n",
       "      <td>78.671785</td>\n",
       "    </tr>\n",
       "  </tbody>\n",
       "</table>\n",
       "<p>36929 rows × 2 columns</p>\n",
       "</div>"
      ],
      "text/plain": [
       "               HR  predictedHR_RF\n",
       "47340   67.923866       67.925501\n",
       "93858   76.960355       76.957422\n",
       "201163  76.086628       76.086607\n",
       "364634  74.739285       74.731666\n",
       "54177   92.082130       92.090544\n",
       "...           ...             ...\n",
       "38102   56.797168       56.794819\n",
       "281611  70.558553       70.559087\n",
       "100095  79.060016       79.053733\n",
       "30098   71.649756       71.653178\n",
       "29417   78.675666       78.671785\n",
       "\n",
       "[36929 rows x 2 columns]"
      ]
     },
     "execution_count": 166,
     "metadata": {},
     "output_type": "execute_result"
    }
   ],
   "source": [
    "\n",
    "\n",
    "pred_vs_actual = pd.DataFrame(y_val)\n",
    "pred_vs_actual['predictedHR_RF'] = blend_models_predict(X)\n",
    "pred_vs_actual\n"
   ]
  },
  {
   "cell_type": "code",
   "execution_count": 179,
   "metadata": {},
   "outputs": [],
   "source": [
    "\n",
    "y_pred_blend_test=blend_models_predict(df_test)\n"
   ]
  },
  {
   "cell_type": "code",
   "execution_count": 180,
   "metadata": {},
   "outputs": [
    {
     "data": {
      "text/plain": [
       "Index(['uuid', 'SD2', 'sampen', 'higuci', 'VLF', 'VLF_PCT', 'LF', 'LF_PCT',\n",
       "       'LF_NU', 'HF_PCT', 'TP', 'LF_HF', 'HF_LF', 'MEAN_RR', 'MEDIAN_RR',\n",
       "       'RMSSD', 'SDRR_RMSSD', 'pNN25', 'pNN50', 'KURT', 'SKEW', 'MEAN_REL_RR',\n",
       "       'MEDIAN_REL_RR', 'SDRR_REL_RR', 'RMSSD_REL_RR', 'SDRR_RMSSD_REL_RR',\n",
       "       'condition2', 'u_ci_rr', 'l_ci_rr', 'MSSD'],\n",
       "      dtype='object')"
      ]
     },
     "execution_count": 180,
     "metadata": {},
     "output_type": "execute_result"
    }
   ],
   "source": [
    "df_test.columns"
   ]
  },
  {
   "cell_type": "code",
   "execution_count": 181,
   "metadata": {},
   "outputs": [
    {
     "data": {
      "text/plain": [
       "36929"
      ]
     },
     "execution_count": 181,
     "metadata": {},
     "output_type": "execute_result"
    }
   ],
   "source": [
    "len(y_pred_blend_test)"
   ]
  },
  {
   "cell_type": "code",
   "execution_count": 182,
   "metadata": {},
   "outputs": [
    {
     "data": {
      "text/plain": [
       "41033"
      ]
     },
     "execution_count": 182,
     "metadata": {},
     "output_type": "execute_result"
    }
   ],
   "source": [
    "len(df_test)"
   ]
  },
  {
   "cell_type": "code",
   "execution_count": 183,
   "metadata": {},
   "outputs": [
    {
     "ename": "TypeError",
     "evalue": "'type' object is not subscriptable",
     "output_type": "error",
     "traceback": [
      "\u001b[1;31m---------------------------------------------------------------------------\u001b[0m",
      "\u001b[1;31mTypeError\u001b[0m                                 Traceback (most recent call last)",
      "\u001b[1;32m<ipython-input-183-4b2bbb6df6ba>\u001b[0m in \u001b[0;36m<module>\u001b[1;34m\u001b[0m\n\u001b[1;32m----> 1\u001b[1;33m \u001b[0mpred_test\u001b[0m\u001b[1;33m=\u001b[0m \u001b[0mpd\u001b[0m\u001b[1;33m.\u001b[0m\u001b[0mDataFrame\u001b[0m\u001b[1;33m[\u001b[0m\u001b[1;33m{\u001b[0m\u001b[1;34m'df_test'\u001b[0m\u001b[1;33m:\u001b[0m \u001b[0mdf_test\u001b[0m\u001b[1;33m,\u001b[0m \u001b[1;34m'HR'\u001b[0m\u001b[1;33m:\u001b[0m \u001b[0my_pred_blend_test\u001b[0m\u001b[1;33m}\u001b[0m\u001b[1;33m]\u001b[0m\u001b[1;33m\u001b[0m\u001b[1;33m\u001b[0m\u001b[0m\n\u001b[0m",
      "\u001b[1;31mTypeError\u001b[0m: 'type' object is not subscriptable"
     ]
    }
   ],
   "source": [
    "pred_test= pd.DataFrame[{'df_test': df_test, 'HR': y_pred_blend_test}]"
   ]
  },
  {
   "cell_type": "code",
   "execution_count": 185,
   "metadata": {},
   "outputs": [
    {
     "data": {
      "text/plain": [
       "uuid\n",
       "62b75db5-bc40-4c8f-9166-daf0efcab4c2    62b75db5-bc40-4c8f-9166-daf0efcab4c2\n",
       "a99549ad-3eb6-4413-bc90-9053e7f7e684    a99549ad-3eb6-4413-bc90-9053e7f7e684\n",
       "cb573d3a-c767-4556-b32e-ad8c08ded214    cb573d3a-c767-4556-b32e-ad8c08ded214\n",
       "47a0c6de-2aef-4ac3-997d-252fa6fd07f1    47a0c6de-2aef-4ac3-997d-252fa6fd07f1\n",
       "de3fd54f-c74e-4fe8-bf2a-7a127f68b312    de3fd54f-c74e-4fe8-bf2a-7a127f68b312\n",
       "                                                        ...                 \n",
       "11253232-cf0a-4c40-abfb-ac2795effd9b    11253232-cf0a-4c40-abfb-ac2795effd9b\n",
       "38052c36-d08d-4305-905b-830f600ce2b9    38052c36-d08d-4305-905b-830f600ce2b9\n",
       "8ef3781b-512f-42ce-bcfd-47f5c1070bb0    8ef3781b-512f-42ce-bcfd-47f5c1070bb0\n",
       "2bf689f3-af22-426d-91cf-e9e173ad3a54    2bf689f3-af22-426d-91cf-e9e173ad3a54\n",
       "0b654db0-e4d3-4ba3-b9ce-9c9291c8271e    0b654db0-e4d3-4ba3-b9ce-9c9291c8271e\n",
       "Name: uuid, Length: 41033, dtype: object"
      ]
     },
     "execution_count": 185,
     "metadata": {},
     "output_type": "execute_result"
    }
   ],
   "source": [
    "df_test['uuid']"
   ]
  },
  {
   "cell_type": "code",
   "execution_count": null,
   "metadata": {},
   "outputs": [],
   "source": [
    "pred_vs_actual"
   ]
  },
  {
   "cell_type": "code",
   "execution_count": 136,
   "metadata": {},
   "outputs": [
    {
     "data": {
      "text/html": [
       "<div>\n",
       "<style scoped>\n",
       "    .dataframe tbody tr th:only-of-type {\n",
       "        vertical-align: middle;\n",
       "    }\n",
       "\n",
       "    .dataframe tbody tr th {\n",
       "        vertical-align: top;\n",
       "    }\n",
       "\n",
       "    .dataframe thead th {\n",
       "        text-align: right;\n",
       "    }\n",
       "</style>\n",
       "<table border=\"1\" class=\"dataframe\">\n",
       "  <thead>\n",
       "    <tr style=\"text-align: right;\">\n",
       "      <th></th>\n",
       "      <th>HR</th>\n",
       "      <th>predictedHR_RF</th>\n",
       "    </tr>\n",
       "  </thead>\n",
       "  <tbody>\n",
       "    <tr>\n",
       "      <th>47340</th>\n",
       "      <td>67.923866</td>\n",
       "      <td>67.925564</td>\n",
       "    </tr>\n",
       "    <tr>\n",
       "      <th>93858</th>\n",
       "      <td>76.960355</td>\n",
       "      <td>76.957365</td>\n",
       "    </tr>\n",
       "    <tr>\n",
       "      <th>201163</th>\n",
       "      <td>76.086628</td>\n",
       "      <td>76.086200</td>\n",
       "    </tr>\n",
       "    <tr>\n",
       "      <th>364634</th>\n",
       "      <td>74.739285</td>\n",
       "      <td>74.728649</td>\n",
       "    </tr>\n",
       "    <tr>\n",
       "      <th>54177</th>\n",
       "      <td>92.082130</td>\n",
       "      <td>92.087936</td>\n",
       "    </tr>\n",
       "    <tr>\n",
       "      <th>...</th>\n",
       "      <td>...</td>\n",
       "      <td>...</td>\n",
       "    </tr>\n",
       "    <tr>\n",
       "      <th>38102</th>\n",
       "      <td>56.797168</td>\n",
       "      <td>56.795516</td>\n",
       "    </tr>\n",
       "    <tr>\n",
       "      <th>281611</th>\n",
       "      <td>70.558553</td>\n",
       "      <td>70.559115</td>\n",
       "    </tr>\n",
       "    <tr>\n",
       "      <th>100095</th>\n",
       "      <td>79.060016</td>\n",
       "      <td>79.054516</td>\n",
       "    </tr>\n",
       "    <tr>\n",
       "      <th>30098</th>\n",
       "      <td>71.649756</td>\n",
       "      <td>71.653278</td>\n",
       "    </tr>\n",
       "    <tr>\n",
       "      <th>29417</th>\n",
       "      <td>78.675666</td>\n",
       "      <td>78.672401</td>\n",
       "    </tr>\n",
       "  </tbody>\n",
       "</table>\n",
       "<p>36929 rows × 2 columns</p>\n",
       "</div>"
      ],
      "text/plain": [
       "               HR  predictedHR_RF\n",
       "47340   67.923866       67.925564\n",
       "93858   76.960355       76.957365\n",
       "201163  76.086628       76.086200\n",
       "364634  74.739285       74.728649\n",
       "54177   92.082130       92.087936\n",
       "...           ...             ...\n",
       "38102   56.797168       56.795516\n",
       "281611  70.558553       70.559115\n",
       "100095  79.060016       79.054516\n",
       "30098   71.649756       71.653278\n",
       "29417   78.675666       78.672401\n",
       "\n",
       "[36929 rows x 2 columns]"
      ]
     },
     "execution_count": 136,
     "metadata": {},
     "output_type": "execute_result"
    }
   ],
   "source": [
    "pred_vs_actual = pd.DataFrame(y_val)\n",
    "pred_vs_actual['predictedHR_RF'] = y_pred_rf_val\n",
    "pred_vs_actual"
   ]
  },
  {
   "cell_type": "code",
   "execution_count": 137,
   "metadata": {},
   "outputs": [],
   "source": [
    "\n",
    "y_pred_rf_test=rf.predict(df_test)"
   ]
  },
  {
   "cell_type": "code",
   "execution_count": 138,
   "metadata": {},
   "outputs": [],
   "source": [
    "pred_test = pd.DataFrame(df_test)\n",
    "pred_test['HR'] = y_pred_rf_test"
   ]
  },
  {
   "cell_type": "code",
   "execution_count": 157,
   "metadata": {},
   "outputs": [
    {
     "data": {
      "text/plain": [
       "Index(['SD2', 'sampen', 'higuci', 'VLF', 'VLF_PCT', 'LF', 'LF_PCT', 'LF_NU',\n",
       "       'HF_PCT', 'TP', 'LF_HF', 'HF_LF', 'MEAN_RR', 'MEDIAN_RR', 'RMSSD',\n",
       "       'SDRR_RMSSD', 'pNN25', 'pNN50', 'KURT', 'SKEW', 'MEAN_REL_RR',\n",
       "       'MEDIAN_REL_RR', 'SDRR_REL_RR', 'RMSSD_REL_RR', 'SDRR_RMSSD_REL_RR',\n",
       "       'condition2', 'u_ci_rr', 'l_ci_rr', 'MSSD', 'HR'],\n",
       "      dtype='object')"
      ]
     },
     "execution_count": 157,
     "metadata": {},
     "output_type": "execute_result"
    }
   ],
   "source": [
    "pred_test.columns"
   ]
  },
  {
   "cell_type": "code",
   "execution_count": 158,
   "metadata": {},
   "outputs": [],
   "source": [
    "Submission_yhats = pred_test.drop(['SD2', 'sampen', 'higuci', 'VLF', 'VLF_PCT', 'LF', 'LF_PCT', 'LF_NU',\n",
    "       'HF_PCT', 'TP', 'LF_HF', 'HF_LF', 'MEAN_RR', 'MEDIAN_RR', 'RMSSD',\n",
    "       'SDRR_RMSSD', 'pNN25', 'pNN50', 'KURT', 'SKEW', 'MEAN_REL_RR',\n",
    "       'MEDIAN_REL_RR', 'SDRR_REL_RR', 'RMSSD_REL_RR', 'SDRR_RMSSD_REL_RR',\n",
    "       'condition2', 'u_ci_rr', 'l_ci_rr', 'MSSD'], axis=1)"
   ]
  },
  {
   "cell_type": "code",
   "execution_count": 159,
   "metadata": {},
   "outputs": [
    {
     "data": {
      "text/html": [
       "<div>\n",
       "<style scoped>\n",
       "    .dataframe tbody tr th:only-of-type {\n",
       "        vertical-align: middle;\n",
       "    }\n",
       "\n",
       "    .dataframe tbody tr th {\n",
       "        vertical-align: top;\n",
       "    }\n",
       "\n",
       "    .dataframe thead th {\n",
       "        text-align: right;\n",
       "    }\n",
       "</style>\n",
       "<table border=\"1\" class=\"dataframe\">\n",
       "  <thead>\n",
       "    <tr style=\"text-align: right;\">\n",
       "      <th></th>\n",
       "      <th>HR</th>\n",
       "    </tr>\n",
       "    <tr>\n",
       "      <th>uuid</th>\n",
       "      <th></th>\n",
       "    </tr>\n",
       "  </thead>\n",
       "  <tbody>\n",
       "    <tr>\n",
       "      <th>62b75db5-bc40-4c8f-9166-daf0efcab4c2</th>\n",
       "      <td>64.708796</td>\n",
       "    </tr>\n",
       "    <tr>\n",
       "      <th>a99549ad-3eb6-4413-bc90-9053e7f7e684</th>\n",
       "      <td>73.774662</td>\n",
       "    </tr>\n",
       "    <tr>\n",
       "      <th>cb573d3a-c767-4556-b32e-ad8c08ded214</th>\n",
       "      <td>69.197670</td>\n",
       "    </tr>\n",
       "    <tr>\n",
       "      <th>47a0c6de-2aef-4ac3-997d-252fa6fd07f1</th>\n",
       "      <td>60.200887</td>\n",
       "    </tr>\n",
       "    <tr>\n",
       "      <th>de3fd54f-c74e-4fe8-bf2a-7a127f68b312</th>\n",
       "      <td>77.814405</td>\n",
       "    </tr>\n",
       "    <tr>\n",
       "      <th>...</th>\n",
       "      <td>...</td>\n",
       "    </tr>\n",
       "    <tr>\n",
       "      <th>11253232-cf0a-4c40-abfb-ac2795effd9b</th>\n",
       "      <td>80.972999</td>\n",
       "    </tr>\n",
       "    <tr>\n",
       "      <th>38052c36-d08d-4305-905b-830f600ce2b9</th>\n",
       "      <td>98.668515</td>\n",
       "    </tr>\n",
       "    <tr>\n",
       "      <th>8ef3781b-512f-42ce-bcfd-47f5c1070bb0</th>\n",
       "      <td>60.963679</td>\n",
       "    </tr>\n",
       "    <tr>\n",
       "      <th>2bf689f3-af22-426d-91cf-e9e173ad3a54</th>\n",
       "      <td>77.406410</td>\n",
       "    </tr>\n",
       "    <tr>\n",
       "      <th>0b654db0-e4d3-4ba3-b9ce-9c9291c8271e</th>\n",
       "      <td>76.610043</td>\n",
       "    </tr>\n",
       "  </tbody>\n",
       "</table>\n",
       "<p>41033 rows × 1 columns</p>\n",
       "</div>"
      ],
      "text/plain": [
       "                                             HR\n",
       "uuid                                           \n",
       "62b75db5-bc40-4c8f-9166-daf0efcab4c2  64.708796\n",
       "a99549ad-3eb6-4413-bc90-9053e7f7e684  73.774662\n",
       "cb573d3a-c767-4556-b32e-ad8c08ded214  69.197670\n",
       "47a0c6de-2aef-4ac3-997d-252fa6fd07f1  60.200887\n",
       "de3fd54f-c74e-4fe8-bf2a-7a127f68b312  77.814405\n",
       "...                                         ...\n",
       "11253232-cf0a-4c40-abfb-ac2795effd9b  80.972999\n",
       "38052c36-d08d-4305-905b-830f600ce2b9  98.668515\n",
       "8ef3781b-512f-42ce-bcfd-47f5c1070bb0  60.963679\n",
       "2bf689f3-af22-426d-91cf-e9e173ad3a54  77.406410\n",
       "0b654db0-e4d3-4ba3-b9ce-9c9291c8271e  76.610043\n",
       "\n",
       "[41033 rows x 1 columns]"
      ]
     },
     "execution_count": 159,
     "metadata": {},
     "output_type": "execute_result"
    }
   ],
   "source": [
    "\n",
    "Submission_yhats"
   ]
  },
  {
   "cell_type": "code",
   "execution_count": 142,
   "metadata": {},
   "outputs": [],
   "source": [
    "\n",
    "Submission_yhats.to_csv ('submission21.csv', index = True, header=True)"
   ]
  },
  {
   "cell_type": "code",
   "execution_count": null,
   "metadata": {},
   "outputs": [],
   "source": []
  }
 ],
 "metadata": {
  "kernelspec": {
   "display_name": "Python 3",
   "language": "python",
   "name": "python3"
  },
  "language_info": {
   "codemirror_mode": {
    "name": "ipython",
    "version": 3
   },
   "file_extension": ".py",
   "mimetype": "text/x-python",
   "name": "python",
   "nbconvert_exporter": "python",
   "pygments_lexer": "ipython3",
   "version": "3.8.3"
  }
 },
 "nbformat": 4,
 "nbformat_minor": 4
}
