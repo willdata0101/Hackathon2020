{
 "cells": [
  {
   "cell_type": "code",
   "execution_count": null,
   "metadata": {},
   "outputs": [],
   "source": []
  },
  {
   "cell_type": "code",
   "execution_count": 1,
   "metadata": {},
   "outputs": [],
   "source": [
    "import warnings\n",
    "warnings.filterwarnings('ignore')\n",
    "\n",
    "import numpy as np\n",
    "import pandas as pd\n",
    "import seaborn as sns\n",
    "import matplotlib.pyplot as plt\n",
    "import sklearn\n",
    "from sklearn.tree import DecisionTreeRegressor\n",
    "from sklearn.metrics import mean_squared_error, r2_score, mean_absolute_error\n",
    "from sklearn.ensemble import AdaBoostRegressor, BaggingRegressor, RandomForestRegressor, ExtraTreesRegressor, StackingRegressor, GradientBoostingRegressor\n",
    "from sklearn.svm import SVR\n",
    "from sklearn.model_selection import KFold, cross_val_score, RandomizedSearchCV, GridSearchCV, train_test_split, cross_val_predict\n",
    "from sklearn.linear_model import Lasso, Ridge, LinearRegression\n",
    "from sklearn.preprocessing import StandardScaler\n",
    "from sklearn.datasets import make_regression\n",
    "from sklearn.neighbors import KNeighborsRegressor\n",
    "import xgboost as xgb\n",
    "%matplotlib inline\n",
    "pd.set_option('display.max_columns', None)"
   ]
  },
  {
   "cell_type": "code",
   "execution_count": 2,
   "metadata": {},
   "outputs": [],
   "source": [
    "df1 = pd.read_csv(\"frequency_domain_features_train.csv\")\n",
    "df2 = pd.read_csv(\"heart_rate_non_linear_features_train.csv\")\n",
    "df3 = pd.read_csv(\"time_domain_features_train.csv\")"
   ]
  },
  {
   "cell_type": "code",
   "execution_count": 3,
   "metadata": {},
   "outputs": [
    {
     "data": {
      "text/plain": [
       "((369289, 12), (369289, 7), (369289, 20))"
      ]
     },
     "execution_count": 3,
     "metadata": {},
     "output_type": "execute_result"
    }
   ],
   "source": [
    "df1.shape, df2.shape, df3.shape"
   ]
  },
  {
   "cell_type": "code",
   "execution_count": 4,
   "metadata": {},
   "outputs": [],
   "source": [
    "df4 = df1.merge(df2,how='inner',on='uuid')"
   ]
  },
  {
   "cell_type": "code",
   "execution_count": 5,
   "metadata": {},
   "outputs": [
    {
     "data": {
      "text/plain": [
       "(369289, 18)"
      ]
     },
     "execution_count": 5,
     "metadata": {},
     "output_type": "execute_result"
    }
   ],
   "source": [
    "df4.shape"
   ]
  },
  {
   "cell_type": "code",
   "execution_count": 6,
   "metadata": {},
   "outputs": [],
   "source": [
    "df5 = df4.merge(df3,how='inner',on='uuid')"
   ]
  },
  {
   "cell_type": "code",
   "execution_count": 7,
   "metadata": {},
   "outputs": [
    {
     "data": {
      "text/plain": [
       "(369289, 37)"
      ]
     },
     "execution_count": 7,
     "metadata": {},
     "output_type": "execute_result"
    }
   ],
   "source": [
    "df5.shape"
   ]
  },
  {
   "cell_type": "code",
   "execution_count": 8,
   "metadata": {},
   "outputs": [],
   "source": [
    "# RANDOM SAMPLE OF DATAFRAME\n",
    "#df5 = df5.sample(50000)"
   ]
  },
  {
   "cell_type": "code",
   "execution_count": 9,
   "metadata": {},
   "outputs": [
    {
     "data": {
      "text/plain": [
       "3"
      ]
     },
     "execution_count": 9,
     "metadata": {},
     "output_type": "execute_result"
    }
   ],
   "source": [
    "df5.condition.nunique()"
   ]
  },
  {
   "cell_type": "code",
   "execution_count": 10,
   "metadata": {},
   "outputs": [
    {
     "data": {
      "text/plain": [
       "<matplotlib.axes._subplots.AxesSubplot at 0x7fd685e40c10>"
      ]
     },
     "execution_count": 10,
     "metadata": {},
     "output_type": "execute_result"
    },
    {
     "data": {
      "image/png": "[encoded data removed]",
      "text/plain": [
       "<Figure size 432x288 with 1 Axes>"
      ]
     },
     "metadata": {
      "needs_background": "light"
     },
     "output_type": "display_data"
    }
   ],
   "source": [
    "sns.countplot(df5[\"condition\"])"
   ]
  },
  {
   "cell_type": "code",
   "execution_count": 11,
   "metadata": {},
   "outputs": [],
   "source": [
    "conditions = [\n",
    "    (df5['condition'] == \"no stress\"),\n",
    "    (df5['condition'] == \"interruption condition\"),\n",
    "    (df5['condition'] == \"time pressure\" )\n",
    "    ]\n",
    "values = [1,0,-1]\n",
    "df5['condition2'] = np.select(conditions, values)"
   ]
  },
  {
   "cell_type": "code",
   "execution_count": 12,
   "metadata": {},
   "outputs": [],
   "source": [
    "df6 = pd.read_csv(\"frequency_domain_features_test.csv\")\n",
    "df7 = pd.read_csv(\"heart_rate_non_linear_features_test.csv\")\n",
    "df8 = pd.read_csv(\"time_domain_features_test.csv\")"
   ]
  },
  {
   "cell_type": "code",
   "execution_count": 13,
   "metadata": {},
   "outputs": [
    {
     "data": {
      "text/plain": [
       "((41033, 12), (41033, 7), (41033, 19))"
      ]
     },
     "execution_count": 13,
     "metadata": {},
     "output_type": "execute_result"
    }
   ],
   "source": [
    "df6.shape, df7.shape, df8.shape"
   ]
  },
  {
   "cell_type": "code",
   "execution_count": 14,
   "metadata": {},
   "outputs": [],
   "source": [
    "df9 = df6.merge(df7,how='inner',on='uuid')\n",
    "df10 = df9.merge(df8,how='inner',on='uuid')"
   ]
  },
  {
   "cell_type": "code",
   "execution_count": 15,
   "metadata": {},
   "outputs": [],
   "source": [
    "conditions = [\n",
    "    (df10['condition'] == \"no stress\"),\n",
    "    (df10['condition'] == \"interruption condition\"),\n",
    "    (df10['condition'] == \"time pressure\" )\n",
    "    ]\n",
    "values = [1,0,-1]\n",
    "df10['condition2'] = np.select(conditions, values)"
   ]
  },
  {
   "cell_type": "code",
   "execution_count": 16,
   "metadata": {},
   "outputs": [
    {
     "data": {
      "text/plain": [
       "(41033, 37)"
      ]
     },
     "execution_count": 16,
     "metadata": {},
     "output_type": "execute_result"
    }
   ],
   "source": [
    "df10.shape"
   ]
  },
  {
   "cell_type": "code",
   "execution_count": 17,
   "metadata": {},
   "outputs": [],
   "source": [
    "dftest = df10.drop(['uuid','condition','datasetId','SD1','SKEW_REL_RR','KURT_REL_RR',\n",
    "                    'SDSD_REL_RR', 'SDRR', 'HF_NU','SDSD'], axis = 1)\n"
   ]
  },
  {
   "cell_type": "code",
   "execution_count": 18,
   "metadata": {},
   "outputs": [],
   "source": [
    "dftrain = df5.drop(['uuid','condition','datasetId','SD1','SKEW_REL_RR','KURT_REL_RR',\n",
    "                    'SDSD_REL_RR', 'SDRR', 'HF_NU','SDSD'], axis=1)"
   ]
  },
  {
   "cell_type": "code",
   "execution_count": 19,
   "metadata": {},
   "outputs": [
    {
     "data": {
      "text/html": [
       "<div>\n",
       "<style scoped>\n",
       "    .dataframe tbody tr th:only-of-type {\n",
       "        vertical-align: middle;\n",
       "    }\n",
       "\n",
       "    .dataframe tbody tr th {\n",
       "        vertical-align: top;\n",
       "    }\n",
       "\n",
       "    .dataframe thead th {\n",
       "        text-align: right;\n",
       "    }\n",
       "</style>\n",
       "<table border=\"1\" class=\"dataframe\">\n",
       "  <thead>\n",
       "    <tr style=\"text-align: right;\">\n",
       "      <th></th>\n",
       "      <th>VLF</th>\n",
       "      <th>VLF_PCT</th>\n",
       "      <th>LF</th>\n",
       "      <th>LF_PCT</th>\n",
       "      <th>LF_NU</th>\n",
       "      <th>HF</th>\n",
       "      <th>HF_PCT</th>\n",
       "      <th>TP</th>\n",
       "      <th>LF_HF</th>\n",
       "      <th>HF_LF</th>\n",
       "      <th>SD2</th>\n",
       "      <th>sampen</th>\n",
       "      <th>higuci</th>\n",
       "      <th>MEAN_RR</th>\n",
       "      <th>MEDIAN_RR</th>\n",
       "      <th>RMSSD</th>\n",
       "      <th>SDRR_RMSSD</th>\n",
       "      <th>HR</th>\n",
       "      <th>pNN25</th>\n",
       "      <th>pNN50</th>\n",
       "      <th>KURT</th>\n",
       "      <th>SKEW</th>\n",
       "      <th>MEAN_REL_RR</th>\n",
       "      <th>MEDIAN_REL_RR</th>\n",
       "      <th>SDRR_REL_RR</th>\n",
       "      <th>RMSSD_REL_RR</th>\n",
       "      <th>SDRR_RMSSD_REL_RR</th>\n",
       "      <th>condition2</th>\n",
       "    </tr>\n",
       "  </thead>\n",
       "  <tbody>\n",
       "    <tr>\n",
       "      <th>0</th>\n",
       "      <td>2661.894136</td>\n",
       "      <td>72.203287</td>\n",
       "      <td>1009.249419</td>\n",
       "      <td>27.375666</td>\n",
       "      <td>98.485263</td>\n",
       "      <td>15.522603</td>\n",
       "      <td>0.421047</td>\n",
       "      <td>3686.666157</td>\n",
       "      <td>65.018055</td>\n",
       "      <td>0.015380</td>\n",
       "      <td>199.061782</td>\n",
       "      <td>2.139754</td>\n",
       "      <td>1.163485</td>\n",
       "      <td>885.157845</td>\n",
       "      <td>853.763730</td>\n",
       "      <td>15.554505</td>\n",
       "      <td>9.063146</td>\n",
       "      <td>69.499952</td>\n",
       "      <td>11.133333</td>\n",
       "      <td>0.533333</td>\n",
       "      <td>-0.856554</td>\n",
       "      <td>0.335218</td>\n",
       "      <td>-0.000203</td>\n",
       "      <td>-0.000179</td>\n",
       "      <td>0.017080</td>\n",
       "      <td>0.007969</td>\n",
       "      <td>2.143342</td>\n",
       "      <td>1</td>\n",
       "    </tr>\n",
       "    <tr>\n",
       "      <th>1</th>\n",
       "      <td>2314.265450</td>\n",
       "      <td>76.975728</td>\n",
       "      <td>690.113275</td>\n",
       "      <td>22.954139</td>\n",
       "      <td>99.695397</td>\n",
       "      <td>2.108525</td>\n",
       "      <td>0.070133</td>\n",
       "      <td>3006.487251</td>\n",
       "      <td>327.296635</td>\n",
       "      <td>0.003055</td>\n",
       "      <td>114.634458</td>\n",
       "      <td>2.174499</td>\n",
       "      <td>1.084711</td>\n",
       "      <td>939.425371</td>\n",
       "      <td>948.357865</td>\n",
       "      <td>12.964439</td>\n",
       "      <td>6.272369</td>\n",
       "      <td>64.363150</td>\n",
       "      <td>5.600000</td>\n",
       "      <td>0.000000</td>\n",
       "      <td>-0.408190</td>\n",
       "      <td>-0.155286</td>\n",
       "      <td>-0.000059</td>\n",
       "      <td>0.000611</td>\n",
       "      <td>0.013978</td>\n",
       "      <td>0.004769</td>\n",
       "      <td>2.930855</td>\n",
       "      <td>0</td>\n",
       "    </tr>\n",
       "    <tr>\n",
       "      <th>2</th>\n",
       "      <td>1373.887112</td>\n",
       "      <td>51.152225</td>\n",
       "      <td>1298.222619</td>\n",
       "      <td>48.335104</td>\n",
       "      <td>98.950472</td>\n",
       "      <td>13.769729</td>\n",
       "      <td>0.512671</td>\n",
       "      <td>2685.879461</td>\n",
       "      <td>94.280910</td>\n",
       "      <td>0.010607</td>\n",
       "      <td>118.939253</td>\n",
       "      <td>2.135350</td>\n",
       "      <td>1.176315</td>\n",
       "      <td>898.186047</td>\n",
       "      <td>907.006860</td>\n",
       "      <td>16.305279</td>\n",
       "      <td>5.182201</td>\n",
       "      <td>67.450066</td>\n",
       "      <td>13.066667</td>\n",
       "      <td>0.200000</td>\n",
       "      <td>0.351789</td>\n",
       "      <td>-0.656813</td>\n",
       "      <td>-0.000011</td>\n",
       "      <td>-0.000263</td>\n",
       "      <td>0.018539</td>\n",
       "      <td>0.008716</td>\n",
       "      <td>2.127053</td>\n",
       "      <td>0</td>\n",
       "    </tr>\n",
       "    <tr>\n",
       "      <th>3</th>\n",
       "      <td>2410.357408</td>\n",
       "      <td>70.180308</td>\n",
       "      <td>1005.981659</td>\n",
       "      <td>29.290305</td>\n",
       "      <td>98.224706</td>\n",
       "      <td>18.181913</td>\n",
       "      <td>0.529387</td>\n",
       "      <td>3434.520980</td>\n",
       "      <td>55.328701</td>\n",
       "      <td>0.018074</td>\n",
       "      <td>127.318597</td>\n",
       "      <td>2.178341</td>\n",
       "      <td>1.179688</td>\n",
       "      <td>881.757865</td>\n",
       "      <td>893.460030</td>\n",
       "      <td>15.720468</td>\n",
       "      <td>5.748591</td>\n",
       "      <td>68.809562</td>\n",
       "      <td>11.800000</td>\n",
       "      <td>0.133333</td>\n",
       "      <td>-0.504947</td>\n",
       "      <td>-0.386138</td>\n",
       "      <td>0.000112</td>\n",
       "      <td>0.000494</td>\n",
       "      <td>0.017761</td>\n",
       "      <td>0.008660</td>\n",
       "      <td>2.050988</td>\n",
       "      <td>1</td>\n",
       "    </tr>\n",
       "    <tr>\n",
       "      <th>4</th>\n",
       "      <td>1151.177330</td>\n",
       "      <td>43.918366</td>\n",
       "      <td>1421.782051</td>\n",
       "      <td>54.242160</td>\n",
       "      <td>96.720007</td>\n",
       "      <td>48.215822</td>\n",
       "      <td>1.839473</td>\n",
       "      <td>2621.175204</td>\n",
       "      <td>29.487873</td>\n",
       "      <td>0.033912</td>\n",
       "      <td>87.718281</td>\n",
       "      <td>2.221121</td>\n",
       "      <td>1.249612</td>\n",
       "      <td>809.625331</td>\n",
       "      <td>811.184865</td>\n",
       "      <td>19.213819</td>\n",
       "      <td>3.266724</td>\n",
       "      <td>74.565728</td>\n",
       "      <td>20.200000</td>\n",
       "      <td>0.200000</td>\n",
       "      <td>-0.548408</td>\n",
       "      <td>-0.154252</td>\n",
       "      <td>-0.000100</td>\n",
       "      <td>-0.002736</td>\n",
       "      <td>0.023715</td>\n",
       "      <td>0.013055</td>\n",
       "      <td>1.816544</td>\n",
       "      <td>1</td>\n",
       "    </tr>\n",
       "  </tbody>\n",
       "</table>\n",
       "</div>"
      ],
      "text/plain": [
       "           VLF    VLF_PCT           LF     LF_PCT      LF_NU         HF  \\\n",
       "0  2661.894136  72.203287  1009.249419  27.375666  98.485263  15.522603   \n",
       "1  2314.265450  76.975728   690.113275  22.954139  99.695397   2.108525   \n",
       "2  1373.887112  51.152225  1298.222619  48.335104  98.950472  13.769729   \n",
       "3  2410.357408  70.180308  1005.981659  29.290305  98.224706  18.181913   \n",
       "4  1151.177330  43.918366  1421.782051  54.242160  96.720007  48.215822   \n",
       "\n",
       "     HF_PCT           TP       LF_HF     HF_LF         SD2    sampen  \\\n",
       "0  0.421047  3686.666157   65.018055  0.015380  199.061782  2.139754   \n",
       "1  0.070133  3006.487251  327.296635  0.003055  114.634458  2.174499   \n",
       "2  0.512671  2685.879461   94.280910  0.010607  118.939253  2.135350   \n",
       "3  0.529387  3434.520980   55.328701  0.018074  127.318597  2.178341   \n",
       "4  1.839473  2621.175204   29.487873  0.033912   87.718281  2.221121   \n",
       "\n",
       "     higuci     MEAN_RR   MEDIAN_RR      RMSSD  SDRR_RMSSD         HR  \\\n",
       "0  1.163485  885.157845  853.763730  15.554505    9.063146  69.499952   \n",
       "1  1.084711  939.425371  948.357865  12.964439    6.272369  64.363150   \n",
       "2  1.176315  898.186047  907.006860  16.305279    5.182201  67.450066   \n",
       "3  1.179688  881.757865  893.460030  15.720468    5.748591  68.809562   \n",
       "4  1.249612  809.625331  811.184865  19.213819    3.266724  74.565728   \n",
       "\n",
       "       pNN25     pNN50      KURT      SKEW  MEAN_REL_RR  MEDIAN_REL_RR  \\\n",
       "0  11.133333  0.533333 -0.856554  0.335218    -0.000203      -0.000179   \n",
       "1   5.600000  0.000000 -0.408190 -0.155286    -0.000059       0.000611   \n",
       "2  13.066667  0.200000  0.351789 -0.656813    -0.000011      -0.000263   \n",
       "3  11.800000  0.133333 -0.504947 -0.386138     0.000112       0.000494   \n",
       "4  20.200000  0.200000 -0.548408 -0.154252    -0.000100      -0.002736   \n",
       "\n",
       "   SDRR_REL_RR  RMSSD_REL_RR  SDRR_RMSSD_REL_RR  condition2  \n",
       "0     0.017080      0.007969           2.143342           1  \n",
       "1     0.013978      0.004769           2.930855           0  \n",
       "2     0.018539      0.008716           2.127053           0  \n",
       "3     0.017761      0.008660           2.050988           1  \n",
       "4     0.023715      0.013055           1.816544           1  "
      ]
     },
     "execution_count": 19,
     "metadata": {},
     "output_type": "execute_result"
    }
   ],
   "source": [
    "dftrain.head()"
   ]
  },
  {
   "cell_type": "code",
   "execution_count": 20,
   "metadata": {},
   "outputs": [
    {
     "data": {
      "text/html": [
       "<div>\n",
       "<style scoped>\n",
       "    .dataframe tbody tr th:only-of-type {\n",
       "        vertical-align: middle;\n",
       "    }\n",
       "\n",
       "    .dataframe tbody tr th {\n",
       "        vertical-align: top;\n",
       "    }\n",
       "\n",
       "    .dataframe thead th {\n",
       "        text-align: right;\n",
       "    }\n",
       "</style>\n",
       "<table border=\"1\" class=\"dataframe\">\n",
       "  <thead>\n",
       "    <tr style=\"text-align: right;\">\n",
       "      <th></th>\n",
       "      <th>VLF</th>\n",
       "      <th>VLF_PCT</th>\n",
       "      <th>LF</th>\n",
       "      <th>LF_PCT</th>\n",
       "      <th>LF_NU</th>\n",
       "      <th>HF</th>\n",
       "      <th>HF_PCT</th>\n",
       "      <th>TP</th>\n",
       "      <th>LF_HF</th>\n",
       "      <th>HF_LF</th>\n",
       "      <th>SD2</th>\n",
       "      <th>sampen</th>\n",
       "      <th>higuci</th>\n",
       "      <th>MEAN_RR</th>\n",
       "      <th>MEDIAN_RR</th>\n",
       "      <th>RMSSD</th>\n",
       "      <th>SDRR_RMSSD</th>\n",
       "      <th>pNN25</th>\n",
       "      <th>pNN50</th>\n",
       "      <th>KURT</th>\n",
       "      <th>SKEW</th>\n",
       "      <th>MEAN_REL_RR</th>\n",
       "      <th>MEDIAN_REL_RR</th>\n",
       "      <th>SDRR_REL_RR</th>\n",
       "      <th>RMSSD_REL_RR</th>\n",
       "      <th>SDRR_RMSSD_REL_RR</th>\n",
       "      <th>condition2</th>\n",
       "    </tr>\n",
       "  </thead>\n",
       "  <tbody>\n",
       "    <tr>\n",
       "      <th>0</th>\n",
       "      <td>1868.532278</td>\n",
       "      <td>76.511189</td>\n",
       "      <td>570.643114</td>\n",
       "      <td>23.366245</td>\n",
       "      <td>99.478197</td>\n",
       "      <td>2.993254</td>\n",
       "      <td>0.122565</td>\n",
       "      <td>2442.168645</td>\n",
       "      <td>190.643094</td>\n",
       "      <td>0.005245</td>\n",
       "      <td>115.862444</td>\n",
       "      <td>2.209659</td>\n",
       "      <td>1.100715</td>\n",
       "      <td>934.665288</td>\n",
       "      <td>939.03173</td>\n",
       "      <td>11.801781</td>\n",
       "      <td>6.959924</td>\n",
       "      <td>3.933333</td>\n",
       "      <td>0.133333</td>\n",
       "      <td>-0.680262</td>\n",
       "      <td>-0.233075</td>\n",
       "      <td>0.000016</td>\n",
       "      <td>0.000288</td>\n",
       "      <td>0.012933</td>\n",
       "      <td>0.004578</td>\n",
       "      <td>2.825038</td>\n",
       "      <td>-1</td>\n",
       "    </tr>\n",
       "    <tr>\n",
       "      <th>1</th>\n",
       "      <td>568.742845</td>\n",
       "      <td>26.301350</td>\n",
       "      <td>1553.971621</td>\n",
       "      <td>71.862973</td>\n",
       "      <td>97.509212</td>\n",
       "      <td>39.694850</td>\n",
       "      <td>1.835677</td>\n",
       "      <td>2162.409316</td>\n",
       "      <td>39.147940</td>\n",
       "      <td>0.025544</td>\n",
       "      <td>77.118903</td>\n",
       "      <td>2.186132</td>\n",
       "      <td>1.290615</td>\n",
       "      <td>817.062380</td>\n",
       "      <td>816.33879</td>\n",
       "      <td>20.558810</td>\n",
       "      <td>2.699200</td>\n",
       "      <td>24.600000</td>\n",
       "      <td>0.533333</td>\n",
       "      <td>-0.034454</td>\n",
       "      <td>-0.051689</td>\n",
       "      <td>0.000040</td>\n",
       "      <td>-0.002749</td>\n",
       "      <td>0.025148</td>\n",
       "      <td>0.013921</td>\n",
       "      <td>1.806517</td>\n",
       "      <td>1</td>\n",
       "    </tr>\n",
       "    <tr>\n",
       "      <th>2</th>\n",
       "      <td>2101.871207</td>\n",
       "      <td>75.836461</td>\n",
       "      <td>655.175895</td>\n",
       "      <td>23.639042</td>\n",
       "      <td>97.829386</td>\n",
       "      <td>14.536877</td>\n",
       "      <td>0.524497</td>\n",
       "      <td>2771.583978</td>\n",
       "      <td>45.069921</td>\n",
       "      <td>0.022188</td>\n",
       "      <td>125.044377</td>\n",
       "      <td>2.051571</td>\n",
       "      <td>1.226663</td>\n",
       "      <td>876.762022</td>\n",
       "      <td>894.19889</td>\n",
       "      <td>13.853737</td>\n",
       "      <td>6.401942</td>\n",
       "      <td>7.066667</td>\n",
       "      <td>0.533333</td>\n",
       "      <td>-0.206953</td>\n",
       "      <td>-0.589940</td>\n",
       "      <td>0.000010</td>\n",
       "      <td>-0.000172</td>\n",
       "      <td>0.015533</td>\n",
       "      <td>0.008149</td>\n",
       "      <td>1.906180</td>\n",
       "      <td>1</td>\n",
       "    </tr>\n",
       "    <tr>\n",
       "      <th>3</th>\n",
       "      <td>5757.544433</td>\n",
       "      <td>90.562305</td>\n",
       "      <td>592.913021</td>\n",
       "      <td>9.326123</td>\n",
       "      <td>98.817806</td>\n",
       "      <td>7.093235</td>\n",
       "      <td>0.111572</td>\n",
       "      <td>6357.550689</td>\n",
       "      <td>83.588517</td>\n",
       "      <td>0.011963</td>\n",
       "      <td>302.029812</td>\n",
       "      <td>2.080910</td>\n",
       "      <td>1.085143</td>\n",
       "      <td>1038.640693</td>\n",
       "      <td>998.91429</td>\n",
       "      <td>16.457194</td>\n",
       "      <td>12.986774</td>\n",
       "      <td>10.800000</td>\n",
       "      <td>1.866667</td>\n",
       "      <td>-0.820407</td>\n",
       "      <td>0.487198</td>\n",
       "      <td>-0.000238</td>\n",
       "      <td>-0.000464</td>\n",
       "      <td>0.016882</td>\n",
       "      <td>0.007587</td>\n",
       "      <td>2.225116</td>\n",
       "      <td>-1</td>\n",
       "    </tr>\n",
       "    <tr>\n",
       "      <th>4</th>\n",
       "      <td>964.696325</td>\n",
       "      <td>70.256575</td>\n",
       "      <td>374.939530</td>\n",
       "      <td>27.305968</td>\n",
       "      <td>91.805057</td>\n",
       "      <td>33.468834</td>\n",
       "      <td>2.437457</td>\n",
       "      <td>1373.104689</td>\n",
       "      <td>11.202647</td>\n",
       "      <td>0.089265</td>\n",
       "      <td>72.579248</td>\n",
       "      <td>2.068728</td>\n",
       "      <td>1.252547</td>\n",
       "      <td>774.548508</td>\n",
       "      <td>778.90508</td>\n",
       "      <td>10.273114</td>\n",
       "      <td>5.020664</td>\n",
       "      <td>2.000000</td>\n",
       "      <td>0.066667</td>\n",
       "      <td>1.738453</td>\n",
       "      <td>-0.005082</td>\n",
       "      <td>0.000054</td>\n",
       "      <td>-0.000006</td>\n",
       "      <td>0.013479</td>\n",
       "      <td>0.007811</td>\n",
       "      <td>1.725606</td>\n",
       "      <td>0</td>\n",
       "    </tr>\n",
       "  </tbody>\n",
       "</table>\n",
       "</div>"
      ],
      "text/plain": [
       "           VLF    VLF_PCT           LF     LF_PCT      LF_NU         HF  \\\n",
       "0  1868.532278  76.511189   570.643114  23.366245  99.478197   2.993254   \n",
       "1   568.742845  26.301350  1553.971621  71.862973  97.509212  39.694850   \n",
       "2  2101.871207  75.836461   655.175895  23.639042  97.829386  14.536877   \n",
       "3  5757.544433  90.562305   592.913021   9.326123  98.817806   7.093235   \n",
       "4   964.696325  70.256575   374.939530  27.305968  91.805057  33.468834   \n",
       "\n",
       "     HF_PCT           TP       LF_HF     HF_LF         SD2    sampen  \\\n",
       "0  0.122565  2442.168645  190.643094  0.005245  115.862444  2.209659   \n",
       "1  1.835677  2162.409316   39.147940  0.025544   77.118903  2.186132   \n",
       "2  0.524497  2771.583978   45.069921  0.022188  125.044377  2.051571   \n",
       "3  0.111572  6357.550689   83.588517  0.011963  302.029812  2.080910   \n",
       "4  2.437457  1373.104689   11.202647  0.089265   72.579248  2.068728   \n",
       "\n",
       "     higuci      MEAN_RR  MEDIAN_RR      RMSSD  SDRR_RMSSD      pNN25  \\\n",
       "0  1.100715   934.665288  939.03173  11.801781    6.959924   3.933333   \n",
       "1  1.290615   817.062380  816.33879  20.558810    2.699200  24.600000   \n",
       "2  1.226663   876.762022  894.19889  13.853737    6.401942   7.066667   \n",
       "3  1.085143  1038.640693  998.91429  16.457194   12.986774  10.800000   \n",
       "4  1.252547   774.548508  778.90508  10.273114    5.020664   2.000000   \n",
       "\n",
       "      pNN50      KURT      SKEW  MEAN_REL_RR  MEDIAN_REL_RR  SDRR_REL_RR  \\\n",
       "0  0.133333 -0.680262 -0.233075     0.000016       0.000288     0.012933   \n",
       "1  0.533333 -0.034454 -0.051689     0.000040      -0.002749     0.025148   \n",
       "2  0.533333 -0.206953 -0.589940     0.000010      -0.000172     0.015533   \n",
       "3  1.866667 -0.820407  0.487198    -0.000238      -0.000464     0.016882   \n",
       "4  0.066667  1.738453 -0.005082     0.000054      -0.000006     0.013479   \n",
       "\n",
       "   RMSSD_REL_RR  SDRR_RMSSD_REL_RR  condition2  \n",
       "0      0.004578           2.825038          -1  \n",
       "1      0.013921           1.806517           1  \n",
       "2      0.008149           1.906180           1  \n",
       "3      0.007587           2.225116          -1  \n",
       "4      0.007811           1.725606           0  "
      ]
     },
     "execution_count": 20,
     "metadata": {},
     "output_type": "execute_result"
    }
   ],
   "source": [
    "dftest.head()"
   ]
  },
  {
   "cell_type": "code",
   "execution_count": 21,
   "metadata": {},
   "outputs": [
    {
     "data": {
      "text/plain": [
       "((369289, 28), (41033, 27))"
      ]
     },
     "execution_count": 21,
     "metadata": {},
     "output_type": "execute_result"
    }
   ],
   "source": [
    "dftrain.shape, dftest.shape"
   ]
  },
  {
   "cell_type": "code",
   "execution_count": 22,
   "metadata": {},
   "outputs": [
    {
     "data": {
      "text/plain": [
       "0"
      ]
     },
     "execution_count": 22,
     "metadata": {},
     "output_type": "execute_result"
    }
   ],
   "source": [
    "df10.duplicated(subset='uuid').sum()"
   ]
  },
  {
   "cell_type": "code",
   "execution_count": 23,
   "metadata": {},
   "outputs": [
    {
     "data": {
      "text/plain": [
       "0"
      ]
     },
     "execution_count": 23,
     "metadata": {},
     "output_type": "execute_result"
    }
   ],
   "source": [
    "df5.duplicated(subset='uuid').sum()"
   ]
  },
  {
   "cell_type": "code",
   "execution_count": 24,
   "metadata": {},
   "outputs": [],
   "source": [
    "X = dftrain.drop(\"HR\",axis=1)\n",
    "y = dftrain[\"HR\"]"
   ]
  },
  {
   "cell_type": "code",
   "execution_count": 25,
   "metadata": {},
   "outputs": [],
   "source": [
    "X_train, X_val, y_train, y_val = train_test_split(X, y, test_size=0.1, random_state=1)"
   ]
  },
  {
   "cell_type": "code",
   "execution_count": 26,
   "metadata": {},
   "outputs": [
    {
     "data": {
      "text/plain": [
       "((332360, 27), (36929, 27))"
      ]
     },
     "execution_count": 26,
     "metadata": {},
     "output_type": "execute_result"
    }
   ],
   "source": [
    "X_train.shape, X_val.shape"
   ]
  },
  {
   "cell_type": "code",
   "execution_count": 27,
   "metadata": {},
   "outputs": [
    {
     "data": {
      "text/plain": [
       "((332360,), (36929,))"
      ]
     },
     "execution_count": 27,
     "metadata": {},
     "output_type": "execute_result"
    }
   ],
   "source": [
    "y_train.shape, y_val.shape"
   ]
  },
  {
   "cell_type": "code",
   "execution_count": 28,
   "metadata": {},
   "outputs": [],
   "source": [
    "#cp = dftrain.corr()\n",
    "#mask = np.zeros_like(cp)\n",
    "#mask[np.triu_indices_from(mask)] = True\n",
    "#plt.figure(figsize=(30,30))\n",
    "#with sns.axes_style(\"white\"):\n",
    "#    sns.heatmap(cp,annot=True,linewidth=2,mask = mask,cmap=\"coolwarm\")\n",
    "#plt.title(\"Correlation Plot\")\n",
    "#plt.show()"
   ]
  },
  {
   "cell_type": "code",
   "execution_count": 29,
   "metadata": {
    "scrolled": true
   },
   "outputs": [
    {
     "data": {
      "text/html": [
       "<div>\n",
       "<style scoped>\n",
       "    .dataframe tbody tr th:only-of-type {\n",
       "        vertical-align: middle;\n",
       "    }\n",
       "\n",
       "    .dataframe tbody tr th {\n",
       "        vertical-align: top;\n",
       "    }\n",
       "\n",
       "    .dataframe thead th {\n",
       "        text-align: right;\n",
       "    }\n",
       "</style>\n",
       "<table border=\"1\" class=\"dataframe\">\n",
       "  <thead>\n",
       "    <tr style=\"text-align: right;\">\n",
       "      <th></th>\n",
       "      <th>VLF</th>\n",
       "      <th>VLF_PCT</th>\n",
       "      <th>LF</th>\n",
       "      <th>LF_PCT</th>\n",
       "      <th>LF_NU</th>\n",
       "      <th>HF</th>\n",
       "      <th>HF_PCT</th>\n",
       "      <th>TP</th>\n",
       "      <th>LF_HF</th>\n",
       "      <th>HF_LF</th>\n",
       "      <th>SD2</th>\n",
       "      <th>sampen</th>\n",
       "      <th>higuci</th>\n",
       "      <th>MEAN_RR</th>\n",
       "      <th>MEDIAN_RR</th>\n",
       "      <th>RMSSD</th>\n",
       "      <th>SDRR_RMSSD</th>\n",
       "      <th>pNN25</th>\n",
       "      <th>pNN50</th>\n",
       "      <th>KURT</th>\n",
       "      <th>SKEW</th>\n",
       "      <th>MEAN_REL_RR</th>\n",
       "      <th>MEDIAN_REL_RR</th>\n",
       "      <th>SDRR_REL_RR</th>\n",
       "      <th>RMSSD_REL_RR</th>\n",
       "      <th>SDRR_RMSSD_REL_RR</th>\n",
       "      <th>condition2</th>\n",
       "    </tr>\n",
       "  </thead>\n",
       "  <tbody>\n",
       "    <tr>\n",
       "      <th>0</th>\n",
       "      <td>-0.850461</td>\n",
       "      <td>-0.139308</td>\n",
       "      <td>-0.984299</td>\n",
       "      <td>0.123290</td>\n",
       "      <td>-0.183804</td>\n",
       "      <td>-0.404517</td>\n",
       "      <td>0.204009</td>\n",
       "      <td>-1.106199</td>\n",
       "      <td>-0.270674</td>\n",
       "      <td>0.126860</td>\n",
       "      <td>-0.739628</td>\n",
       "      <td>0.645106</td>\n",
       "      <td>0.332048</td>\n",
       "      <td>-0.158395</td>\n",
       "      <td>-0.087086</td>\n",
       "      <td>-1.207215</td>\n",
       "      <td>-0.424490</td>\n",
       "      <td>-1.054247</td>\n",
       "      <td>-0.874384</td>\n",
       "      <td>-0.548623</td>\n",
       "      <td>-0.319678</td>\n",
       "      <td>-0.556038</td>\n",
       "      <td>-0.446828</td>\n",
       "      <td>-1.121930</td>\n",
       "      <td>-0.724240</td>\n",
       "      <td>-0.523978</td>\n",
       "      <td>-1.797587</td>\n",
       "    </tr>\n",
       "    <tr>\n",
       "      <th>1</th>\n",
       "      <td>0.207041</td>\n",
       "      <td>-0.494574</td>\n",
       "      <td>1.859567</td>\n",
       "      <td>0.603678</td>\n",
       "      <td>0.948527</td>\n",
       "      <td>-0.631940</td>\n",
       "      <td>-0.786890</td>\n",
       "      <td>0.735448</td>\n",
       "      <td>0.206940</td>\n",
       "      <td>-0.878365</td>\n",
       "      <td>-0.043159</td>\n",
       "      <td>0.512342</td>\n",
       "      <td>0.642869</td>\n",
       "      <td>1.082557</td>\n",
       "      <td>1.114223</td>\n",
       "      <td>1.969545</td>\n",
       "      <td>-0.542877</td>\n",
       "      <td>2.435465</td>\n",
       "      <td>1.817293</td>\n",
       "      <td>-0.324967</td>\n",
       "      <td>-0.675614</td>\n",
       "      <td>-0.075092</td>\n",
       "      <td>-0.923057</td>\n",
       "      <td>0.908367</td>\n",
       "      <td>0.478176</td>\n",
       "      <td>0.072576</td>\n",
       "      <td>-0.484008</td>\n",
       "    </tr>\n",
       "    <tr>\n",
       "      <th>2</th>\n",
       "      <td>3.465601</td>\n",
       "      <td>1.503677</td>\n",
       "      <td>-0.020234</td>\n",
       "      <td>-1.511359</td>\n",
       "      <td>-0.388739</td>\n",
       "      <td>0.458113</td>\n",
       "      <td>-0.557876</td>\n",
       "      <td>3.276715</td>\n",
       "      <td>-0.278136</td>\n",
       "      <td>0.319469</td>\n",
       "      <td>2.597732</td>\n",
       "      <td>-0.637816</td>\n",
       "      <td>-1.277965</td>\n",
       "      <td>0.611599</td>\n",
       "      <td>0.246970</td>\n",
       "      <td>0.633437</td>\n",
       "      <td>1.986375</td>\n",
       "      <td>0.336757</td>\n",
       "      <td>1.750001</td>\n",
       "      <td>-0.882233</td>\n",
       "      <td>0.591298</td>\n",
       "      <td>-0.544726</td>\n",
       "      <td>0.736833</td>\n",
       "      <td>0.827142</td>\n",
       "      <td>0.541158</td>\n",
       "      <td>-0.139616</td>\n",
       "      <td>0.829571</td>\n",
       "    </tr>\n",
       "    <tr>\n",
       "      <th>3</th>\n",
       "      <td>-0.070555</td>\n",
       "      <td>-0.218677</td>\n",
       "      <td>0.513966</td>\n",
       "      <td>0.139282</td>\n",
       "      <td>-0.803162</td>\n",
       "      <td>1.430990</td>\n",
       "      <td>0.814190</td>\n",
       "      <td>0.120531</td>\n",
       "      <td>-0.288248</td>\n",
       "      <td>0.719753</td>\n",
       "      <td>0.567114</td>\n",
       "      <td>0.025691</td>\n",
       "      <td>0.273998</td>\n",
       "      <td>-0.399367</td>\n",
       "      <td>-0.155129</td>\n",
       "      <td>0.638723</td>\n",
       "      <td>0.252095</td>\n",
       "      <td>0.255412</td>\n",
       "      <td>1.211666</td>\n",
       "      <td>-1.041454</td>\n",
       "      <td>-0.297102</td>\n",
       "      <td>0.103730</td>\n",
       "      <td>-0.029783</td>\n",
       "      <td>1.110613</td>\n",
       "      <td>1.349639</td>\n",
       "      <td>-0.959245</td>\n",
       "      <td>0.829571</td>\n",
       "    </tr>\n",
       "    <tr>\n",
       "      <th>4</th>\n",
       "      <td>0.081083</td>\n",
       "      <td>0.875895</td>\n",
       "      <td>-0.574053</td>\n",
       "      <td>-0.831399</td>\n",
       "      <td>0.777681</td>\n",
       "      <td>-0.695688</td>\n",
       "      <td>-0.770841</td>\n",
       "      <td>-0.111165</td>\n",
       "      <td>-0.098269</td>\n",
       "      <td>-0.732786</td>\n",
       "      <td>-0.367277</td>\n",
       "      <td>-0.022202</td>\n",
       "      <td>-1.292749</td>\n",
       "      <td>0.370264</td>\n",
       "      <td>0.437421</td>\n",
       "      <td>-0.542377</td>\n",
       "      <td>-0.203448</td>\n",
       "      <td>-0.484830</td>\n",
       "      <td>-0.605217</td>\n",
       "      <td>0.209012</td>\n",
       "      <td>-0.781857</td>\n",
       "      <td>-0.685079</td>\n",
       "      <td>0.625590</td>\n",
       "      <td>-0.755545</td>\n",
       "      <td>-1.037874</td>\n",
       "      <td>1.456332</td>\n",
       "      <td>0.829571</td>\n",
       "    </tr>\n",
       "  </tbody>\n",
       "</table>\n",
       "</div>"
      ],
      "text/plain": [
       "        VLF   VLF_PCT        LF    LF_PCT     LF_NU        HF    HF_PCT  \\\n",
       "0 -0.850461 -0.139308 -0.984299  0.123290 -0.183804 -0.404517  0.204009   \n",
       "1  0.207041 -0.494574  1.859567  0.603678  0.948527 -0.631940 -0.786890   \n",
       "2  3.465601  1.503677 -0.020234 -1.511359 -0.388739  0.458113 -0.557876   \n",
       "3 -0.070555 -0.218677  0.513966  0.139282 -0.803162  1.430990  0.814190   \n",
       "4  0.081083  0.875895 -0.574053 -0.831399  0.777681 -0.695688 -0.770841   \n",
       "\n",
       "         TP     LF_HF     HF_LF       SD2    sampen    higuci   MEAN_RR  \\\n",
       "0 -1.106199 -0.270674  0.126860 -0.739628  0.645106  0.332048 -0.158395   \n",
       "1  0.735448  0.206940 -0.878365 -0.043159  0.512342  0.642869  1.082557   \n",
       "2  3.276715 -0.278136  0.319469  2.597732 -0.637816 -1.277965  0.611599   \n",
       "3  0.120531 -0.288248  0.719753  0.567114  0.025691  0.273998 -0.399367   \n",
       "4 -0.111165 -0.098269 -0.732786 -0.367277 -0.022202 -1.292749  0.370264   \n",
       "\n",
       "   MEDIAN_RR     RMSSD  SDRR_RMSSD     pNN25     pNN50      KURT      SKEW  \\\n",
       "0  -0.087086 -1.207215   -0.424490 -1.054247 -0.874384 -0.548623 -0.319678   \n",
       "1   1.114223  1.969545   -0.542877  2.435465  1.817293 -0.324967 -0.675614   \n",
       "2   0.246970  0.633437    1.986375  0.336757  1.750001 -0.882233  0.591298   \n",
       "3  -0.155129  0.638723    0.252095  0.255412  1.211666 -1.041454 -0.297102   \n",
       "4   0.437421 -0.542377   -0.203448 -0.484830 -0.605217  0.209012 -0.781857   \n",
       "\n",
       "   MEAN_REL_RR  MEDIAN_REL_RR  SDRR_REL_RR  RMSSD_REL_RR  SDRR_RMSSD_REL_RR  \\\n",
       "0    -0.556038      -0.446828    -1.121930     -0.724240          -0.523978   \n",
       "1    -0.075092      -0.923057     0.908367      0.478176           0.072576   \n",
       "2    -0.544726       0.736833     0.827142      0.541158          -0.139616   \n",
       "3     0.103730      -0.029783     1.110613      1.349639          -0.959245   \n",
       "4    -0.685079       0.625590    -0.755545     -1.037874           1.456332   \n",
       "\n",
       "   condition2  \n",
       "0   -1.797587  \n",
       "1   -0.484008  \n",
       "2    0.829571  \n",
       "3    0.829571  \n",
       "4    0.829571  "
      ]
     },
     "execution_count": 29,
     "metadata": {},
     "output_type": "execute_result"
    }
   ],
   "source": [
    "sc = StandardScaler()\n",
    "\n",
    "X_train = pd.DataFrame(sc.fit_transform(X_train),columns=X.columns)\n",
    "X_val = pd.DataFrame(sc.transform(X_val),columns=X.columns)\n",
    "\n",
    "X_train.head()"
   ]
  },
  {
   "cell_type": "code",
   "execution_count": 30,
   "metadata": {},
   "outputs": [],
   "source": [
    "#param_grid = {'alpha': np.arange(0,2,0.05)}\n",
    "#\n",
    "#grid_tree = GridSearchCV(Lasso(), param_grid ,cv=10, scoring= 'neg_mean_absolute_error')\n",
    "#grid_tree.fit(X_train, y_train)\n",
    "#print(grid_tree.best_estimator_)\n",
    "#print(np.abs(grid_tree.best_score_))"
   ]
  },
  {
   "cell_type": "code",
   "execution_count": 31,
   "metadata": {},
   "outputs": [],
   "source": [
    "# linear regression\n",
    "lr = LinearRegression()\n",
    "\n",
    "\n",
    "# fit models on training data \n",
    "lr.fit(X_train, y_train)\n",
    "\n",
    "# make predictions on test data\n",
    "y_pred_lr = lr.predict(X_val)\n",
    "\n",
    "# calculate preformance measures linear regression\n",
    "rmse_lr = np.sqrt(mean_squared_error(y_val, y_pred_lr))\n",
    "mse_lr = mean_squared_error(y_val, y_pred_lr)\n",
    "mae_lr = mean_absolute_error(y_val, y_pred_lr)\n",
    "r2_lr = r2_score(y_val, y_pred_lr)\n",
    "adjr2_lr = 1-(1-r2_lr)*(len(y_val)-1)/(len(y_val)-len(X_val.columns)-1)"
   ]
  },
  {
   "cell_type": "code",
   "execution_count": 32,
   "metadata": {},
   "outputs": [
    {
     "data": {
      "text/html": [
       "<div>\n",
       "<style scoped>\n",
       "    .dataframe tbody tr th:only-of-type {\n",
       "        vertical-align: middle;\n",
       "    }\n",
       "\n",
       "    .dataframe tbody tr th {\n",
       "        vertical-align: top;\n",
       "    }\n",
       "\n",
       "    .dataframe thead th {\n",
       "        text-align: right;\n",
       "    }\n",
       "</style>\n",
       "<table border=\"1\" class=\"dataframe\">\n",
       "  <thead>\n",
       "    <tr style=\"text-align: right;\">\n",
       "      <th></th>\n",
       "      <th>Method</th>\n",
       "      <th>RMSE</th>\n",
       "      <th>MSE</th>\n",
       "      <th>MAE</th>\n",
       "      <th>R2</th>\n",
       "      <th>Adj_R2</th>\n",
       "    </tr>\n",
       "  </thead>\n",
       "  <tbody>\n",
       "    <tr>\n",
       "      <th>0</th>\n",
       "      <td>Linear Regression</td>\n",
       "      <td>1.418821</td>\n",
       "      <td>2.013052</td>\n",
       "      <td>0.949578</td>\n",
       "      <td>0.981004</td>\n",
       "      <td>0.98099</td>\n",
       "    </tr>\n",
       "  </tbody>\n",
       "</table>\n",
       "</div>"
      ],
      "text/plain": [
       "              Method      RMSE       MSE       MAE        R2   Adj_R2\n",
       "0  Linear Regression  1.418821  2.013052  0.949578  0.981004  0.98099"
      ]
     },
     "execution_count": 32,
     "metadata": {},
     "output_type": "execute_result"
    }
   ],
   "source": [
    "resultsDf1 = pd.DataFrame({'Method':['Linear Regression'], 'RMSE': rmse_lr , 'MSE': mse_lr , 'MAE': mae_lr ,\"R2\": r2_lr, 'Adj_R2': adjr2_lr})\n",
    "resultsDf1"
   ]
  },
  {
   "cell_type": "code",
   "execution_count": 33,
   "metadata": {},
   "outputs": [],
   "source": [
    "#linear_coef = pd.DataFrame()\n",
    "#linear_coef['linear_Col'] = X_train.columns\n",
    "#linear_coef['linear_Coeff'] = abs(np.round((lr.coef_),3))\n",
    "#linear_coef.sort_values(by='linear_Coeff',ascending=False).head(33)"
   ]
  },
  {
   "cell_type": "code",
   "execution_count": 34,
   "metadata": {},
   "outputs": [],
   "source": [
    "# lasso regression\n",
    "lasso = Lasso(alpha = 0.0)\n",
    "\n",
    "# fit lasso on training data\n",
    "lasso.fit(X_train, y_train)\n",
    "\n",
    "# make prediciton on test data\n",
    "y_pred_lasso = lasso.predict(X_val)"
   ]
  },
  {
   "cell_type": "code",
   "execution_count": 35,
   "metadata": {},
   "outputs": [],
   "source": [
    "# calculate preformance measures lasso regression\n",
    "rmse_lasso = np.sqrt(mean_squared_error(y_val, y_pred_lasso))\n",
    "mse_lasso = mean_squared_error(y_val, y_pred_lasso)\n",
    "mae_lasso = mean_absolute_error(y_val, y_pred_lasso)\n",
    "r2_lasso = r2_score(y_val, y_pred_lasso)\n",
    "adjr2_lasso = 1-(1-r2_lasso)*(len(y_val)-1)/(len(y_val)-len(X_val.columns)-1)\n"
   ]
  },
  {
   "cell_type": "code",
   "execution_count": 36,
   "metadata": {},
   "outputs": [
    {
     "data": {
      "text/html": [
       "<div>\n",
       "<style scoped>\n",
       "    .dataframe tbody tr th:only-of-type {\n",
       "        vertical-align: middle;\n",
       "    }\n",
       "\n",
       "    .dataframe tbody tr th {\n",
       "        vertical-align: top;\n",
       "    }\n",
       "\n",
       "    .dataframe thead th {\n",
       "        text-align: right;\n",
       "    }\n",
       "</style>\n",
       "<table border=\"1\" class=\"dataframe\">\n",
       "  <thead>\n",
       "    <tr style=\"text-align: right;\">\n",
       "      <th></th>\n",
       "      <th>Method</th>\n",
       "      <th>RMSE</th>\n",
       "      <th>MSE</th>\n",
       "      <th>MAE</th>\n",
       "      <th>R2</th>\n",
       "      <th>Adj_R2</th>\n",
       "    </tr>\n",
       "  </thead>\n",
       "  <tbody>\n",
       "    <tr>\n",
       "      <th>0</th>\n",
       "      <td>Lasso Regression</td>\n",
       "      <td>1.418689</td>\n",
       "      <td>2.012677</td>\n",
       "      <td>0.949435</td>\n",
       "      <td>0.981008</td>\n",
       "      <td>0.980994</td>\n",
       "    </tr>\n",
       "  </tbody>\n",
       "</table>\n",
       "</div>"
      ],
      "text/plain": [
       "             Method      RMSE       MSE       MAE        R2    Adj_R2\n",
       "0  Lasso Regression  1.418689  2.012677  0.949435  0.981008  0.980994"
      ]
     },
     "execution_count": 36,
     "metadata": {},
     "output_type": "execute_result"
    }
   ],
   "source": [
    "resultsDf2 = pd.DataFrame({'Method':['Lasso Regression'], 'RMSE': rmse_lasso , 'MSE': mse_lasso , 'MAE': mae_lasso ,\"R2\": r2_lasso, 'Adj_R2': adjr2_lasso})\n",
    "resultsDf2"
   ]
  },
  {
   "cell_type": "code",
   "execution_count": 37,
   "metadata": {},
   "outputs": [],
   "source": [
    "#lasso_coef = pd.DataFrame()\n",
    "#lasso_coef['lasso_Col'] = X_train.columns\n",
    "#lasso_coef['lasso_Coeff'] = abs(np.round((lasso.coef_),3))\n",
    "#lasso_coef.sort_values(by='lasso_Coeff',ascending=False).head(33)"
   ]
  },
  {
   "cell_type": "code",
   "execution_count": 38,
   "metadata": {},
   "outputs": [],
   "source": [
    "# ridge regression\n",
    "ridge = Ridge(alpha = 1.95)\n",
    "\n",
    "# fit ridge on training data\n",
    "ridge.fit(X_train, y_train)\n",
    "\n",
    "# make prediciton on test data\n",
    "y_pred_ridge = ridge.predict(X_val)"
   ]
  },
  {
   "cell_type": "code",
   "execution_count": 39,
   "metadata": {},
   "outputs": [
    {
     "data": {
      "text/html": [
       "<div>\n",
       "<style scoped>\n",
       "    .dataframe tbody tr th:only-of-type {\n",
       "        vertical-align: middle;\n",
       "    }\n",
       "\n",
       "    .dataframe tbody tr th {\n",
       "        vertical-align: top;\n",
       "    }\n",
       "\n",
       "    .dataframe thead th {\n",
       "        text-align: right;\n",
       "    }\n",
       "</style>\n",
       "<table border=\"1\" class=\"dataframe\">\n",
       "  <thead>\n",
       "    <tr style=\"text-align: right;\">\n",
       "      <th></th>\n",
       "      <th>Method</th>\n",
       "      <th>RMSE</th>\n",
       "      <th>MSE</th>\n",
       "      <th>MAE</th>\n",
       "      <th>R2</th>\n",
       "      <th>Adj_R2</th>\n",
       "    </tr>\n",
       "  </thead>\n",
       "  <tbody>\n",
       "    <tr>\n",
       "      <th>0</th>\n",
       "      <td>Ridge Regression</td>\n",
       "      <td>1.418801</td>\n",
       "      <td>2.012996</td>\n",
       "      <td>0.949477</td>\n",
       "      <td>0.981005</td>\n",
       "      <td>0.980991</td>\n",
       "    </tr>\n",
       "  </tbody>\n",
       "</table>\n",
       "</div>"
      ],
      "text/plain": [
       "             Method      RMSE       MSE       MAE        R2    Adj_R2\n",
       "0  Ridge Regression  1.418801  2.012996  0.949477  0.981005  0.980991"
      ]
     },
     "execution_count": 39,
     "metadata": {},
     "output_type": "execute_result"
    }
   ],
   "source": [
    "# calculate preformance measures ridge regression\n",
    "rmse_ridge = np.sqrt(mean_squared_error(y_val, y_pred_ridge))\n",
    "mse_ridge = mean_squared_error(y_val, y_pred_ridge)\n",
    "mae_ridge = mean_absolute_error(y_val, y_pred_ridge)\n",
    "r2_ridge = r2_score(y_val, y_pred_ridge)\n",
    "adjr2_ridge = 1-(1-r2_ridge)*(len(y_val)-1)/(len(y_val)-len(X_val.columns)-1)\n",
    "\n",
    "resultsDf3 = pd.DataFrame({'Method':['Ridge Regression'], 'RMSE': rmse_ridge , 'MSE': mse_ridge , 'MAE': mae_ridge ,\"R2\": r2_ridge, 'Adj_R2': adjr2_ridge})\n",
    "resultsDf3"
   ]
  },
  {
   "cell_type": "code",
   "execution_count": 40,
   "metadata": {},
   "outputs": [],
   "source": [
    "#ridge_coef = pd.DataFrame()\n",
    "#ridge_coef['ridge_Col'] = X_train.columns\n",
    "#ridge_coef['ridge_Coeff'] = abs(np.round((ridge.coef_),3))\n",
    "#ridge_coef.sort_values(by='ridge_Coeff',ascending=False).head(33)"
   ]
  },
  {
   "cell_type": "code",
   "execution_count": 41,
   "metadata": {},
   "outputs": [
    {
     "data": {
      "text/html": [
       "<div>\n",
       "<style scoped>\n",
       "    .dataframe tbody tr th:only-of-type {\n",
       "        vertical-align: middle;\n",
       "    }\n",
       "\n",
       "    .dataframe tbody tr th {\n",
       "        vertical-align: top;\n",
       "    }\n",
       "\n",
       "    .dataframe thead th {\n",
       "        text-align: right;\n",
       "    }\n",
       "</style>\n",
       "<table border=\"1\" class=\"dataframe\">\n",
       "  <thead>\n",
       "    <tr style=\"text-align: right;\">\n",
       "      <th></th>\n",
       "      <th>Method</th>\n",
       "      <th>RMSE</th>\n",
       "      <th>MSE</th>\n",
       "      <th>MAE</th>\n",
       "      <th>R2</th>\n",
       "      <th>Adj_R2</th>\n",
       "    </tr>\n",
       "  </thead>\n",
       "  <tbody>\n",
       "    <tr>\n",
       "      <th>0</th>\n",
       "      <td>Linear Regression</td>\n",
       "      <td>1.418821</td>\n",
       "      <td>2.013052</td>\n",
       "      <td>0.949578</td>\n",
       "      <td>0.981004</td>\n",
       "      <td>0.980990</td>\n",
       "    </tr>\n",
       "    <tr>\n",
       "      <th>0</th>\n",
       "      <td>Lasso Regression</td>\n",
       "      <td>1.418689</td>\n",
       "      <td>2.012677</td>\n",
       "      <td>0.949435</td>\n",
       "      <td>0.981008</td>\n",
       "      <td>0.980994</td>\n",
       "    </tr>\n",
       "    <tr>\n",
       "      <th>0</th>\n",
       "      <td>Ridge Regression</td>\n",
       "      <td>1.418801</td>\n",
       "      <td>2.012996</td>\n",
       "      <td>0.949477</td>\n",
       "      <td>0.981005</td>\n",
       "      <td>0.980991</td>\n",
       "    </tr>\n",
       "  </tbody>\n",
       "</table>\n",
       "</div>"
      ],
      "text/plain": [
       "              Method      RMSE       MSE       MAE        R2    Adj_R2\n",
       "0  Linear Regression  1.418821  2.013052  0.949578  0.981004  0.980990\n",
       "0   Lasso Regression  1.418689  2.012677  0.949435  0.981008  0.980994\n",
       "0   Ridge Regression  1.418801  2.012996  0.949477  0.981005  0.980991"
      ]
     },
     "execution_count": 41,
     "metadata": {},
     "output_type": "execute_result"
    }
   ],
   "source": [
    "linear = pd.concat([resultsDf1, resultsDf2, resultsDf3],axis=0)\n",
    "linear"
   ]
  },
  {
   "cell_type": "code",
   "execution_count": 43,
   "metadata": {},
   "outputs": [],
   "source": [
    "#pd.concat([linear_coef, lasso_coef, ridge_coef],axis=1)"
   ]
  },
  {
   "cell_type": "code",
   "execution_count": 44,
   "metadata": {},
   "outputs": [],
   "source": [
    "#Residual plots\n",
    "\n",
    "#for i in ['VLF', 'VLF_PCT', 'LF', 'LF_PCT', 'LF_NU', 'HF', 'HF_PCT', 'TP',\n",
    "#       'LF_HF', 'HF_LF', 'SD2', 'sampen', 'higuci', 'MEAN_RR', 'MEDIAN_RR',\n",
    "#       'RMSSD', 'SDRR_RMSSD', 'pNN25', 'pNN50', 'KURT', 'SKEW', 'MEAN_REL_RR',\n",
    "#       'MEDIAN_REL_RR', 'SDRR_REL_RR', 'RMSSD_REL_RR', 'SDRR_RMSSD_REL_RR',\n",
    "#       'condition2']:\n",
    "#    fig = plt.figure(figsize=(10,8))\n",
    "#    sns.residplot(x= X_val[i], y= y_val, color='green', lowess=True )"
   ]
  },
  {
   "cell_type": "code",
   "execution_count": null,
   "metadata": {},
   "outputs": [],
   "source": []
  },
  {
   "cell_type": "code",
   "execution_count": 45,
   "metadata": {},
   "outputs": [
    {
     "name": "stdout",
     "output_type": "stream",
     "text": [
      "Train R2 score:  0.9999985183182631\n",
      "Validation R2 score:  0.9999912482134314\n"
     ]
    }
   ],
   "source": [
    "rf=RandomForestRegressor(random_state=1, n_estimators=20, max_depth=50)\n",
    "rf.fit(X_train,y_train)\n",
    "#rf.score(X_train,y_train)\n",
    "\n",
    "#this line doesn't make sense to me\n",
    "y_pred_rf_train=rf.predict(X_train)\n",
    "#\n",
    "\n",
    "y_pred_rf_val=rf.predict(X_val)\n",
    "print('Train R2 score: ', r2_score(y_train,y_pred_rf_train))\n",
    "print('Validation R2 score: ', r2_score(y_val,y_pred_rf_val))"
   ]
  },
  {
   "cell_type": "code",
   "execution_count": 46,
   "metadata": {},
   "outputs": [
    {
     "data": {
      "text/html": [
       "<div>\n",
       "<style scoped>\n",
       "    .dataframe tbody tr th:only-of-type {\n",
       "        vertical-align: middle;\n",
       "    }\n",
       "\n",
       "    .dataframe tbody tr th {\n",
       "        vertical-align: top;\n",
       "    }\n",
       "\n",
       "    .dataframe thead th {\n",
       "        text-align: right;\n",
       "    }\n",
       "</style>\n",
       "<table border=\"1\" class=\"dataframe\">\n",
       "  <thead>\n",
       "    <tr style=\"text-align: right;\">\n",
       "      <th></th>\n",
       "      <th>Method</th>\n",
       "      <th>RMSE</th>\n",
       "      <th>MSE</th>\n",
       "      <th>MAE</th>\n",
       "      <th>R2</th>\n",
       "      <th>Adj_R2</th>\n",
       "    </tr>\n",
       "  </thead>\n",
       "  <tbody>\n",
       "    <tr>\n",
       "      <th>0</th>\n",
       "      <td>Random Forest</td>\n",
       "      <td>0.030454</td>\n",
       "      <td>0.000927</td>\n",
       "      <td>0.007101</td>\n",
       "      <td>0.999991</td>\n",
       "      <td>0.999991</td>\n",
       "    </tr>\n",
       "  </tbody>\n",
       "</table>\n",
       "</div>"
      ],
      "text/plain": [
       "          Method      RMSE       MSE       MAE        R2    Adj_R2\n",
       "0  Random Forest  0.030454  0.000927  0.007101  0.999991  0.999991"
      ]
     },
     "execution_count": 46,
     "metadata": {},
     "output_type": "execute_result"
    }
   ],
   "source": [
    "rmse_rf = np.sqrt(mean_squared_error(y_val, y_pred_rf_val))\n",
    "mse_rf = mean_squared_error(y_val, y_pred_rf_val)\n",
    "mae_rf = mean_absolute_error(y_val, y_pred_rf_val)\n",
    "r2_rf = r2_score(y_val, y_pred_rf_val)\n",
    "adjr2_rf = 1-(1-r2_rf)*(len(y_val)-1)/(len(y_val)-len(X_val.columns)-1)\n",
    "\n",
    "resultsDf1 = pd.DataFrame({'Method':['Random Forest'], 'RMSE': rmse_rf , 'MSE': mse_rf , 'MAE': mae_rf ,\"R2\": r2_rf, 'Adj_R2': adjr2_rf})\n",
    "resultsDf1"
   ]
  },
  {
   "cell_type": "code",
   "execution_count": 47,
   "metadata": {},
   "outputs": [
    {
     "data": {
      "text/html": [
       "<div>\n",
       "<style scoped>\n",
       "    .dataframe tbody tr th:only-of-type {\n",
       "        vertical-align: middle;\n",
       "    }\n",
       "\n",
       "    .dataframe tbody tr th {\n",
       "        vertical-align: top;\n",
       "    }\n",
       "\n",
       "    .dataframe thead th {\n",
       "        text-align: right;\n",
       "    }\n",
       "</style>\n",
       "<table border=\"1\" class=\"dataframe\">\n",
       "  <thead>\n",
       "    <tr style=\"text-align: right;\">\n",
       "      <th></th>\n",
       "      <th>Method</th>\n",
       "      <th>RMSE</th>\n",
       "      <th>MSE</th>\n",
       "      <th>MAE</th>\n",
       "      <th>R2</th>\n",
       "      <th>Adj_R2</th>\n",
       "    </tr>\n",
       "  </thead>\n",
       "  <tbody>\n",
       "    <tr>\n",
       "      <th>0</th>\n",
       "      <td>Random Forest</td>\n",
       "      <td>0.012589</td>\n",
       "      <td>0.000158</td>\n",
       "      <td>0.003191</td>\n",
       "      <td>0.999999</td>\n",
       "      <td>0.999999</td>\n",
       "    </tr>\n",
       "  </tbody>\n",
       "</table>\n",
       "</div>"
      ],
      "text/plain": [
       "          Method      RMSE       MSE       MAE        R2    Adj_R2\n",
       "0  Random Forest  0.012589  0.000158  0.003191  0.999999  0.999999"
      ]
     },
     "execution_count": 47,
     "metadata": {},
     "output_type": "execute_result"
    }
   ],
   "source": [
    "#This block doesn't make sense to me\n",
    "\n",
    "rmse_rf = np.sqrt(mean_squared_error(y_train, y_pred_rf_train))\n",
    "mse_rf = mean_squared_error(y_train, y_pred_rf_train)\n",
    "mae_rf = mean_absolute_error(y_train, y_pred_rf_train)\n",
    "r2_rf = r2_score(y_train, y_pred_rf_train)\n",
    "adjr2_rf = 1-(1-r2_rf)*(len(y_train)-1)/(len(y_train)-len(X_train.columns)-1)\n",
    "\n",
    "resultsDf1 = pd.DataFrame({'Method':['Random Forest'], 'RMSE': rmse_rf , 'MSE': mse_rf , 'MAE': mae_rf ,\"R2\": r2_rf, 'Adj_R2': adjr2_rf})\n",
    "resultsDf1\n",
    "#"
   ]
  },
  {
   "cell_type": "code",
   "execution_count": 48,
   "metadata": {},
   "outputs": [],
   "source": [
    "#rf_coef = pd.DataFrame()\n",
    "#rf_coef['rf_Col'] = X_train.columns\n",
    "#rf_coef['rf_Coeff'] = abs(np.round((rf.feature_importances_),5))\n",
    "#rf_coef.sort_values(by='rf_Coeff',ascending=False)"
   ]
  },
  {
   "cell_type": "code",
   "execution_count": null,
   "metadata": {},
   "outputs": [],
   "source": []
  },
  {
   "cell_type": "code",
   "execution_count": 49,
   "metadata": {},
   "outputs": [],
   "source": [
    "# Gradient Boost\n"
   ]
  },
  {
   "cell_type": "code",
   "execution_count": 50,
   "metadata": {},
   "outputs": [
    {
     "name": "stdout",
     "output_type": "stream",
     "text": [
      "Train R2 score:  0.9999734386011124\n",
      "Test R2 score:  0.9999295694376167\n"
     ]
    }
   ],
   "source": [
    "\n",
    "gb=GradientBoostingRegressor(random_state=1,n_estimators=50 ,max_depth=50,learning_rate=.1)\n",
    "gb.fit(X_train,y_train)\n",
    "#gb.score(X_train,y_train)\n",
    "y_pred_gbtr=gb.predict(X_train)\n",
    "y_pred_gbval=gb.predict(X_val)\n",
    "print('Train R2 score: ',r2_score(y_train,y_pred_gbtr))\n",
    "print('Test R2 score: ',r2_score(y_val,y_pred_gbval))"
   ]
  },
  {
   "cell_type": "code",
   "execution_count": 51,
   "metadata": {},
   "outputs": [
    {
     "data": {
      "text/html": [
       "<div>\n",
       "<style scoped>\n",
       "    .dataframe tbody tr th:only-of-type {\n",
       "        vertical-align: middle;\n",
       "    }\n",
       "\n",
       "    .dataframe tbody tr th {\n",
       "        vertical-align: top;\n",
       "    }\n",
       "\n",
       "    .dataframe thead th {\n",
       "        text-align: right;\n",
       "    }\n",
       "</style>\n",
       "<table border=\"1\" class=\"dataframe\">\n",
       "  <thead>\n",
       "    <tr style=\"text-align: right;\">\n",
       "      <th></th>\n",
       "      <th>Method</th>\n",
       "      <th>RMSE</th>\n",
       "      <th>MSE</th>\n",
       "      <th>MAE</th>\n",
       "      <th>R2</th>\n",
       "      <th>Adj_R2</th>\n",
       "    </tr>\n",
       "  </thead>\n",
       "  <tbody>\n",
       "    <tr>\n",
       "      <th>0</th>\n",
       "      <td>Gradient Boost</td>\n",
       "      <td>0.086393</td>\n",
       "      <td>0.007464</td>\n",
       "      <td>0.044539</td>\n",
       "      <td>0.99993</td>\n",
       "      <td>0.99993</td>\n",
       "    </tr>\n",
       "  </tbody>\n",
       "</table>\n",
       "</div>"
      ],
      "text/plain": [
       "           Method      RMSE       MSE       MAE       R2   Adj_R2\n",
       "0  Gradient Boost  0.086393  0.007464  0.044539  0.99993  0.99993"
      ]
     },
     "execution_count": 51,
     "metadata": {},
     "output_type": "execute_result"
    }
   ],
   "source": [
    "rmse_gb = np.sqrt(mean_squared_error(y_val, y_pred_gbval))\n",
    "mse_gb = mean_squared_error(y_val, y_pred_gbval)\n",
    "mae_gb = mean_absolute_error(y_val, y_pred_gbval)\n",
    "r2_gb = r2_score(y_val, y_pred_gbval)\n",
    "adjr2_gb = 1-(1-r2_gb)*(len(y_val)-1)/(len(y_val)-len(X_val.columns)-1)\n",
    "\n",
    "\n",
    "resultsDf2 = pd.DataFrame({'Method':['Gradient Boost'], 'RMSE': rmse_gb , 'MSE': mse_gb , 'MAE': mae_gb ,\"R2\": r2_gb, 'Adj_R2': adjr2_gb})\n",
    "resultsDf2"
   ]
  },
  {
   "cell_type": "code",
   "execution_count": 52,
   "metadata": {},
   "outputs": [],
   "source": [
    "#AdaBoostRegressor"
   ]
  },
  {
   "cell_type": "code",
   "execution_count": 53,
   "metadata": {},
   "outputs": [
    {
     "name": "stdout",
     "output_type": "stream",
     "text": [
      "AdaBoost Regressor:\n",
      "\n",
      "Training Score: 0.9756740580889769\n",
      "Validate Score: 0.9755760352965355\n",
      "Root Mean Sq Error: 1.6088182614905226\n",
      "Mean Sq Error: 2.5882961985053874\n",
      "Mean Abs Error: 1.2815362314916658\n",
      "R2: 0.9755760352965355\n",
      "Adj R2: 0.975558164587151\n"
     ]
    }
   ],
   "source": [
    "ab = AdaBoostRegressor(n_estimators = 15, random_state = 1)\n",
    "ab.fit(X_train, y_train)\n",
    "ab_pred = ab.predict(X_val)\n",
    "\n",
    "print('AdaBoost Regressor:')\n",
    "print('')\n",
    "print('Training Score:', ab.score(X_train, y_train))\n",
    "print('Validate Score:', ab.score(X_val, y_val))\n",
    "\n",
    "\n",
    "\n",
    "rmse_ab = np.sqrt(mean_squared_error(y_val, ab_pred))\n",
    "mse_ab = mean_squared_error(y_val, ab_pred)\n",
    "mae_ab = mean_absolute_error(y_val, ab_pred)\n",
    "r2_ab = r2_score(y_val, ab_pred)\n",
    "adjr2_ab = 1-(1-r2_ab)*(len(y_val)-1)/(len(y_val)-len(X_val.columns)-1)\n",
    "\n",
    "print('Root Mean Sq Error:', rmse_ab)\n",
    "print('Mean Sq Error:', mse_ab)\n",
    "print('Mean Abs Error:', mae_ab)\n",
    "print('R2:', r2_ab)\n",
    "print('Adj R2:', adjr2_ab)"
   ]
  },
  {
   "cell_type": "code",
   "execution_count": 54,
   "metadata": {},
   "outputs": [],
   "source": [
    "#StackingRegressor\n",
    "estimators = [('bagging',BaggingRegressor()),('adaboost',AdaBoostRegressor()),('gradboost',GradientBoostingRegressor())]\n"
   ]
  },
  {
   "cell_type": "code",
   "execution_count": 55,
   "metadata": {},
   "outputs": [
    {
     "name": "stdout",
     "output_type": "stream",
     "text": [
      "Stacking Regressor:\n",
      "\n",
      "Training Score: 0.9999931301087759\n",
      "Validate Score: 0.9999825722941914\n",
      "Root Mean Sq Error: 0.04297530973747124\n",
      "Mean Sq Error: 0.00184687724703159\n",
      "Mean Abs Error: 0.011979908485572172\n",
      "R2: 0.9999825722941914\n",
      "Adj R2: 0.9999825595425571\n"
     ]
    }
   ],
   "source": [
    "sr = StackingRegressor(estimators = estimators, final_estimator = RandomForestRegressor(n_estimators = 10, random_state = 1))\n",
    "sr.fit(X_train, y_train)\n",
    "sr_pred = sr.predict(X_val)\n",
    "\n",
    "print('Stacking Regressor:')\n",
    "print('')\n",
    "print('Training Score:', sr.score(X_train, y_train))\n",
    "print('Validate Score:', sr.score(X_val, y_val))\n",
    "\n",
    "\n",
    "\n",
    "rmse_sr = np.sqrt(mean_squared_error(y_val, sr_pred))\n",
    "mse_sr = mean_squared_error(y_val, sr_pred)\n",
    "mae_sr = mean_absolute_error(y_val, sr_pred)\n",
    "r2_sr = r2_score(y_val, sr_pred)\n",
    "adjr2_sr = 1-(1-r2_sr)*(len(y_val)-1)/(len(y_val)-len(X_val.columns)-1)\n",
    "\n",
    "print('Root Mean Sq Error:', rmse_sr)\n",
    "print('Mean Sq Error:', mse_sr)\n",
    "print('Mean Abs Error:', mae_sr)\n",
    "print('R2:', r2_sr)\n",
    "print('Adj R2:', adjr2_sr)"
   ]
  },
  {
   "cell_type": "code",
   "execution_count": 56,
   "metadata": {},
   "outputs": [],
   "source": [
    "# creating a new dataframe of predictions, last column is true values\n",
    "columns = [y_pred_lr, y_pred_lasso, y_pred_ridge, y_pred_rf_val, y_pred_gbval, ab_pred, sr_pred, y_val]\n",
    "predictions = pd.DataFrame({'y_pred_lr': y_pred_lr, 'y_pred_lasso': y_pred_lasso,\n",
    "                            'y_pred_ridge': y_pred_ridge, 'y_pred_rf_val': y_pred_rf_val,\n",
    "                            'y_pred_gbval': y_pred_gbval, 'ab_pred': ab_pred, 'sr_pred': sr_pred,\n",
    "                            'sr_pred2': sr_pred, 'y_val': y_val})                          "
   ]
  },
  {
   "cell_type": "code",
   "execution_count": 57,
   "metadata": {},
   "outputs": [
    {
     "data": {
      "text/html": [
       "<div>\n",
       "<style scoped>\n",
       "    .dataframe tbody tr th:only-of-type {\n",
       "        vertical-align: middle;\n",
       "    }\n",
       "\n",
       "    .dataframe tbody tr th {\n",
       "        vertical-align: top;\n",
       "    }\n",
       "\n",
       "    .dataframe thead th {\n",
       "        text-align: right;\n",
       "    }\n",
       "</style>\n",
       "<table border=\"1\" class=\"dataframe\">\n",
       "  <thead>\n",
       "    <tr style=\"text-align: right;\">\n",
       "      <th></th>\n",
       "      <th>y_pred_lr</th>\n",
       "      <th>y_pred_lasso</th>\n",
       "      <th>y_pred_ridge</th>\n",
       "      <th>y_pred_rf_val</th>\n",
       "      <th>y_pred_gbval</th>\n",
       "      <th>ab_pred</th>\n",
       "      <th>sr_pred</th>\n",
       "      <th>y_val</th>\n",
       "    </tr>\n",
       "  </thead>\n",
       "  <tbody>\n",
       "    <tr>\n",
       "      <th>47340</th>\n",
       "      <td>68.123206</td>\n",
       "      <td>68.116504</td>\n",
       "      <td>68.121723</td>\n",
       "      <td>67.917269</td>\n",
       "      <td>67.961004</td>\n",
       "      <td>69.025716</td>\n",
       "      <td>67.916072</td>\n",
       "      <td>67.923866</td>\n",
       "    </tr>\n",
       "    <tr>\n",
       "      <th>93858</th>\n",
       "      <td>78.008950</td>\n",
       "      <td>78.010202</td>\n",
       "      <td>78.013106</td>\n",
       "      <td>76.957500</td>\n",
       "      <td>76.943930</td>\n",
       "      <td>78.095026</td>\n",
       "      <td>76.955116</td>\n",
       "      <td>76.960355</td>\n",
       "    </tr>\n",
       "    <tr>\n",
       "      <th>201163</th>\n",
       "      <td>76.379754</td>\n",
       "      <td>76.365448</td>\n",
       "      <td>76.376156</td>\n",
       "      <td>76.087270</td>\n",
       "      <td>76.073863</td>\n",
       "      <td>75.922117</td>\n",
       "      <td>76.083630</td>\n",
       "      <td>76.086628</td>\n",
       "    </tr>\n",
       "    <tr>\n",
       "      <th>364634</th>\n",
       "      <td>74.927579</td>\n",
       "      <td>74.927992</td>\n",
       "      <td>74.928977</td>\n",
       "      <td>74.729004</td>\n",
       "      <td>74.723520</td>\n",
       "      <td>74.436961</td>\n",
       "      <td>74.744634</td>\n",
       "      <td>74.739285</td>\n",
       "    </tr>\n",
       "    <tr>\n",
       "      <th>54177</th>\n",
       "      <td>96.590446</td>\n",
       "      <td>96.490199</td>\n",
       "      <td>96.585355</td>\n",
       "      <td>92.087715</td>\n",
       "      <td>92.004183</td>\n",
       "      <td>90.309333</td>\n",
       "      <td>92.083602</td>\n",
       "      <td>92.082130</td>\n",
       "    </tr>\n",
       "  </tbody>\n",
       "</table>\n",
       "</div>"
      ],
      "text/plain": [
       "        y_pred_lr  y_pred_lasso  y_pred_ridge  y_pred_rf_val  y_pred_gbval  \\\n",
       "47340   68.123206     68.116504     68.121723      67.917269     67.961004   \n",
       "93858   78.008950     78.010202     78.013106      76.957500     76.943930   \n",
       "201163  76.379754     76.365448     76.376156      76.087270     76.073863   \n",
       "364634  74.927579     74.927992     74.928977      74.729004     74.723520   \n",
       "54177   96.590446     96.490199     96.585355      92.087715     92.004183   \n",
       "\n",
       "          ab_pred    sr_pred      y_val  \n",
       "47340   69.025716  67.916072  67.923866  \n",
       "93858   78.095026  76.955116  76.960355  \n",
       "201163  75.922117  76.083630  76.086628  \n",
       "364634  74.436961  74.744634  74.739285  \n",
       "54177   90.309333  92.083602  92.082130  "
      ]
     },
     "execution_count": 57,
     "metadata": {},
     "output_type": "execute_result"
    }
   ],
   "source": [
    "predictions.head()"
   ]
  },
  {
   "cell_type": "code",
   "execution_count": 58,
   "metadata": {},
   "outputs": [],
   "source": [
    "# split the data\n",
    "X_predictions = predictions.drop(columns = 'y_val')\n",
    "y_predictions = predictions['y_val']"
   ]
  },
  {
   "cell_type": "code",
   "execution_count": 59,
   "metadata": {},
   "outputs": [],
   "source": [
    "X_train_stack, X_val_stack, y_train_stack, y_val_stack = train_test_split(X_predictions, y_predictions, test_size = .1, random_state = 1)"
   ]
  },
  {
   "cell_type": "code",
   "execution_count": null,
   "metadata": {},
   "outputs": [],
   "source": []
  },
  {
   "cell_type": "code",
   "execution_count": 60,
   "metadata": {},
   "outputs": [
    {
     "name": "stdout",
     "output_type": "stream",
     "text": [
      "Stacked Random Forest:\n",
      "\n",
      "Training Score: 0.9999971064343328\n",
      "Validate Score: 0.9999878395963213\n",
      "Root Mean Sq Error: 0.036111252250653016\n",
      "Mean Sq Error: 0.0013040225391102924\n",
      "Mean Abs Error: 0.008379387808562642\n",
      "R2: 0.9999878395963213\n",
      "Adj R2: 0.9999878164965043\n"
     ]
    }
   ],
   "source": [
    "\n",
    "stacked_rf=RandomForestRegressor(random_state=1, n_estimators=10)\n",
    "stacked_rf.fit(X_train_stack, y_train_stack)\n",
    "\n",
    "stacked_rf_pred = stacked_rf.predict(X_val_stack)\n",
    "\n",
    "print('Stacked Random Forest:')\n",
    "print('')\n",
    "print('Training Score:', stacked_rf.score(X_train_stack, y_train_stack))\n",
    "print('Validate Score:', stacked_rf.score(X_val_stack, y_val_stack))\n",
    "\n",
    "\n",
    "\n",
    "rmse_srf = np.sqrt(mean_squared_error(y_val_stack, stacked_rf_pred))\n",
    "mse_srf = mean_squared_error(y_val_stack, stacked_rf_pred)\n",
    "mae_srf = mean_absolute_error(y_val_stack, stacked_rf_pred)\n",
    "r2_srf = r2_score(y_val_stack, stacked_rf_pred)\n",
    "adjr2_srf = 1-(1-r2_srf)*(len(y_val_stack)-1)/(len(y_val_stack)-len(X_val_stack.columns)-1)\n",
    "\n",
    "print('Root Mean Sq Error:', rmse_srf)\n",
    "print('Mean Sq Error:', mse_srf)\n",
    "print('Mean Abs Error:', mae_srf)\n",
    "print('R2:', r2_srf)\n",
    "print('Adj R2:', adjr2_srf)"
   ]
  },
  {
   "cell_type": "code",
   "execution_count": null,
   "metadata": {},
   "outputs": [],
   "source": []
  },
  {
   "cell_type": "code",
   "execution_count": null,
   "metadata": {},
   "outputs": [],
   "source": []
  }
 ],
 "metadata": {
  "kernelspec": {
   "display_name": "Python 3",
   "language": "python",
   "name": "python3"
  },
  "language_info": {
   "codemirror_mode": {
    "name": "ipython",
    "version": 3
   },
   "file_extension": ".py",
   "mimetype": "text/x-python",
   "name": "python",
   "nbconvert_exporter": "python",
   "pygments_lexer": "ipython3",
   "version": "3.8.3"
  }
 },
 "nbformat": 4,
 "nbformat_minor": 4
}
