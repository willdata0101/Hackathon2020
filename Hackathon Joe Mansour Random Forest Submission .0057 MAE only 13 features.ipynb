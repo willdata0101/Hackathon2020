{
 "cells": [
  {
   "cell_type": "markdown",
   "metadata": {},
   "source": [
    "# Import datasets "
   ]
  },
  {
   "cell_type": "code",
   "execution_count": 112,
   "metadata": {},
   "outputs": [],
   "source": [
    "#Import all the necessary modules\n",
    "import pandas as pd\n",
    "import warnings\n",
    "warnings.filterwarnings('ignore')\n",
    "%matplotlib inline\n",
    "import random\n",
    "import matplotlib.pyplot as plt\n",
    "import numpy as np\n",
    "import seaborn as sns\n",
    "\n",
    "import pandas_profiling"
   ]
  },
  {
   "cell_type": "code",
   "execution_count": 114,
   "metadata": {},
   "outputs": [],
   "source": [
    "df1 = pd.read_csv(\"frequency_domain_features_train .csv\")\n",
    "df2 = pd.read_csv(\"heart_rate_non_linear_features_train.csv\")\n",
    "df3 = pd.read_csv(\"time_domain_features_train.csv\")"
   ]
  },
  {
   "cell_type": "code",
   "execution_count": 115,
   "metadata": {},
   "outputs": [
    {
     "data": {
      "text/plain": [
       "((369289, 12), (369289, 7), (369289, 20))"
      ]
     },
     "execution_count": 115,
     "metadata": {},
     "output_type": "execute_result"
    }
   ],
   "source": [
    "df1.shape, df2.shape, df3.shape"
   ]
  },
  {
   "cell_type": "code",
   "execution_count": 116,
   "metadata": {},
   "outputs": [],
   "source": [
    "df4 = df1.merge(right=df2,how='inner',on='uuid')"
   ]
  },
  {
   "cell_type": "code",
   "execution_count": 117,
   "metadata": {},
   "outputs": [
    {
     "data": {
      "text/plain": [
       "(369289, 18)"
      ]
     },
     "execution_count": 117,
     "metadata": {},
     "output_type": "execute_result"
    }
   ],
   "source": [
    "df4.shape"
   ]
  },
  {
   "cell_type": "code",
   "execution_count": 118,
   "metadata": {},
   "outputs": [],
   "source": [
    "df5 = df4.merge(right=df3,how='inner',on='uuid')"
   ]
  },
  {
   "cell_type": "code",
   "execution_count": 119,
   "metadata": {},
   "outputs": [
    {
     "data": {
      "text/plain": [
       "(369289, 37)"
      ]
     },
     "execution_count": 119,
     "metadata": {},
     "output_type": "execute_result"
    }
   ],
   "source": [
    "df5.shape"
   ]
  },
  {
   "cell_type": "code",
   "execution_count": 120,
   "metadata": {},
   "outputs": [
    {
     "data": {
      "text/plain": [
       "3"
      ]
     },
     "execution_count": 120,
     "metadata": {},
     "output_type": "execute_result"
    }
   ],
   "source": [
    "df5.condition.nunique()"
   ]
  },
  {
   "cell_type": "code",
   "execution_count": 121,
   "metadata": {},
   "outputs": [
    {
     "data": {
      "text/plain": [
       "<matplotlib.axes._subplots.AxesSubplot at 0x7f8d9f44d1c0>"
      ]
     },
     "execution_count": 121,
     "metadata": {},
     "output_type": "execute_result"
    },
    {
     "data": {
      "image/png": "[encoded data removed]",
      "text/plain": [
       "<Figure size 432x288 with 1 Axes>"
      ]
     },
     "metadata": {
      "needs_background": "light"
     },
     "output_type": "display_data"
    }
   ],
   "source": [
    "sns.countplot(df5[\"condition\"])"
   ]
  },
  {
   "cell_type": "code",
   "execution_count": 122,
   "metadata": {},
   "outputs": [],
   "source": [
    "conditions = [\n",
    "    (df5['condition'] == \"no stress\"),\n",
    "    (df5['condition'] == \"interruption condition\"),\n",
    "    (df5['condition'] == \"time pressure\" )\n",
    "    ]"
   ]
  },
  {
   "cell_type": "code",
   "execution_count": 123,
   "metadata": {},
   "outputs": [],
   "source": [
    "values = [1,0,-1]"
   ]
  },
  {
   "cell_type": "code",
   "execution_count": 124,
   "metadata": {},
   "outputs": [],
   "source": [
    "df5['condition2'] = np.select(conditions, values)"
   ]
  },
  {
   "cell_type": "code",
   "execution_count": 125,
   "metadata": {},
   "outputs": [],
   "source": [
    "df6 = pd.read_csv(\"frequency_domain_features_test.csv\")\n",
    "df7 = pd.read_csv(\"heart_rate_non_linear_features_test.csv\")\n",
    "df8 = pd.read_csv(\"time_domain_features_test.csv\")"
   ]
  },
  {
   "cell_type": "code",
   "execution_count": 126,
   "metadata": {},
   "outputs": [
    {
     "data": {
      "text/plain": [
       "((41033, 12), (41033, 7), (41033, 19))"
      ]
     },
     "execution_count": 126,
     "metadata": {},
     "output_type": "execute_result"
    }
   ],
   "source": [
    "df6.shape, df7.shape, df8.shape"
   ]
  },
  {
   "cell_type": "code",
   "execution_count": 127,
   "metadata": {},
   "outputs": [],
   "source": [
    "df9 = df6.merge(right=df7,how='inner',on='uuid')\n",
    "df10 = df9.merge(right=df8,how='inner',on='uuid')"
   ]
  },
  {
   "cell_type": "code",
   "execution_count": 128,
   "metadata": {},
   "outputs": [],
   "source": [
    "conditions = [\n",
    "    (df10['condition'] == \"no stress\"),\n",
    "    (df10['condition'] == \"interruption condition\"),\n",
    "    (df10['condition'] == \"time pressure\" )\n",
    "    ]"
   ]
  },
  {
   "cell_type": "code",
   "execution_count": 129,
   "metadata": {},
   "outputs": [],
   "source": [
    "values = [1,0,-1]"
   ]
  },
  {
   "cell_type": "code",
   "execution_count": 130,
   "metadata": {},
   "outputs": [],
   "source": [
    "df10['condition2'] = np.select(conditions, values)"
   ]
  },
  {
   "cell_type": "code",
   "execution_count": 131,
   "metadata": {},
   "outputs": [
    {
     "data": {
      "text/plain": [
       "(41033, 37)"
      ]
     },
     "execution_count": 131,
     "metadata": {},
     "output_type": "execute_result"
    }
   ],
   "source": [
    "df10.shape"
   ]
  },
  {
   "cell_type": "markdown",
   "metadata": {},
   "source": [
    "## Make uuid Index"
   ]
  },
  {
   "cell_type": "markdown",
   "metadata": {},
   "source": [
    "df11=train\n",
    "df12=test"
   ]
  },
  {
   "cell_type": "code",
   "execution_count": 147,
   "metadata": {},
   "outputs": [],
   "source": [
    "df11 = df5.set_index('uuid')\n",
    "df12 = df10.set_index('uuid')"
   ]
  },
  {
   "cell_type": "code",
   "execution_count": null,
   "metadata": {},
   "outputs": [],
   "source": []
  },
  {
   "cell_type": "markdown",
   "metadata": {},
   "source": [
    "### Features to drop"
   ]
  },
  {
   "cell_type": "markdown",
   "metadata": {},
   "source": []
  },
  {
   "cell_type": "code",
   "execution_count": 154,
   "metadata": {},
   "outputs": [],
   "source": [
    "from sklearn.linear_model import LinearRegression, Lasso, Ridge\n",
    "from sklearn.model_selection import GridSearchCV\n",
    "from sklearn.model_selection import train_test_split\n",
    "from sklearn.model_selection import KFold\n",
    "from sklearn.model_selection import cross_val_score\n",
    "from sklearn.preprocessing import StandardScaler\n",
    "from sklearn.metrics import mean_squared_error, mean_absolute_error, r2_score\n",
    "from sklearn.tree import DecisionTreeRegressor"
   ]
  },
  {
   "cell_type": "code",
   "execution_count": 155,
   "metadata": {},
   "outputs": [],
   "source": [
    "# newly defined features\n",
    "dftest = df12.drop(['condition','datasetId','SD2','SDRR_RMSSD_REL_RR',\n",
    "                     'SDRR_REL_RR','MEAN_REL_RR','condition2','RMSSD_REL_RR',\n",
    "                     'MEDIAN_REL_RR','RMSSD','LF_PCT','SKEW_REL_RR','HF','LF_NU',\"HF_NU\"\n",
    "                    ,\"SD1\",'VLF','TP',\"LF_HF\",\"MEDIAN_RR\",\"LF\",\"VLF_PCT\",\n",
    "                    \"KURT_REL_RR\"], axis = 1)\n",
    "\n",
    "dftrain = df11.drop(['condition','datasetId','SD2','SDRR_RMSSD_REL_RR',\n",
    "                     'SDRR_REL_RR','MEAN_REL_RR','condition2','RMSSD_REL_RR',\n",
    "                     'MEDIAN_REL_RR','RMSSD','LF_PCT','SKEW_REL_RR','HF','LF_NU',\"HF_NU\"\n",
    "                    ,\"SD1\",'VLF','TP',\"LF_HF\",\"MEDIAN_RR\",\"LF\",\"VLF_PCT\",\n",
    "                    \"KURT_REL_RR\"], axis=1)"
   ]
  },
  {
   "cell_type": "code",
   "execution_count": 156,
   "metadata": {},
   "outputs": [],
   "source": [
    "X = dftrain.drop(\"HR\",axis=1)\n",
    "y = dftrain[\"HR\"]\n",
    "\n",
    "X_train, X_val, y_train, y_val = train_test_split(X, y, test_size=0.1, random_state=1)"
   ]
  },
  {
   "cell_type": "markdown",
   "metadata": {},
   "source": [
    "Random foresrt"
   ]
  },
  {
   "cell_type": "code",
   "execution_count": 157,
   "metadata": {},
   "outputs": [
    {
     "name": "stdout",
     "output_type": "stream",
     "text": [
      "Train R2 score:  0.8461282435792761\n",
      "Validation R2 score:  0.847760642532209\n"
     ]
    }
   ],
   "source": [
    "from sklearn.ensemble import RandomForestRegressor\n",
    "rf=RandomForestRegressor(random_state=1, n_estimators=2, max_depth=2)\n",
    "rf.fit(X_train,y_train)\n",
    "#rf.score(X_train,y_train)\n",
    "y_pred_rf_train=rf.predict(X_train)\n",
    "y_pred_rf_val=rf.predict(X_val)\n",
    "print('Train R2 score: ', r2_score(y_train,y_pred_rf_train))\n",
    "print('Validation R2 score: ', r2_score(y_val,y_pred_rf_val))"
   ]
  },
  {
   "cell_type": "code",
   "execution_count": 158,
   "metadata": {},
   "outputs": [
    {
     "data": {
      "text/html": [
       "<div>\n",
       "<style scoped>\n",
       "    .dataframe tbody tr th:only-of-type {\n",
       "        vertical-align: middle;\n",
       "    }\n",
       "\n",
       "    .dataframe tbody tr th {\n",
       "        vertical-align: top;\n",
       "    }\n",
       "\n",
       "    .dataframe thead th {\n",
       "        text-align: right;\n",
       "    }\n",
       "</style>\n",
       "<table border=\"1\" class=\"dataframe\">\n",
       "  <thead>\n",
       "    <tr style=\"text-align: right;\">\n",
       "      <th></th>\n",
       "      <th>Method</th>\n",
       "      <th>RMSE</th>\n",
       "      <th>MSE</th>\n",
       "      <th>MAE</th>\n",
       "      <th>R2</th>\n",
       "      <th>Adj_R2</th>\n",
       "    </tr>\n",
       "  </thead>\n",
       "  <tbody>\n",
       "    <tr>\n",
       "      <th>0</th>\n",
       "      <td>Random Forest Validation</td>\n",
       "      <td>4.016635</td>\n",
       "      <td>16.133357</td>\n",
       "      <td>3.233378</td>\n",
       "      <td>0.847761</td>\n",
       "      <td>0.847707</td>\n",
       "    </tr>\n",
       "  </tbody>\n",
       "</table>\n",
       "</div>"
      ],
      "text/plain": [
       "                     Method      RMSE        MSE       MAE        R2    Adj_R2\n",
       "0  Random Forest Validation  4.016635  16.133357  3.233378  0.847761  0.847707"
      ]
     },
     "execution_count": 158,
     "metadata": {},
     "output_type": "execute_result"
    }
   ],
   "source": [
    "rmse_rf = np.sqrt(mean_squared_error(y_val, y_pred_rf_val))\n",
    "mse_rf = mean_squared_error(y_val, y_pred_rf_val)\n",
    "mae_rf = mean_absolute_error(y_val, y_pred_rf_val)\n",
    "r2_rf = r2_score(y_val, y_pred_rf_val)\n",
    "adjr2_rf = 1-(1-r2_rf)*(len(y_val)-1)/(len(y_val)-len(X_val.columns)-1)\n",
    "\n",
    "resultsDf1 = pd.DataFrame({'Method':['Random Forest Validation'], 'RMSE': rmse_rf , 'MSE': mse_rf , 'MAE': mae_rf ,\"R2\": r2_rf, 'Adj_R2': adjr2_rf})\n",
    "resultsDf1"
   ]
  },
  {
   "cell_type": "code",
   "execution_count": 159,
   "metadata": {},
   "outputs": [
    {
     "data": {
      "text/html": [
       "<div>\n",
       "<style scoped>\n",
       "    .dataframe tbody tr th:only-of-type {\n",
       "        vertical-align: middle;\n",
       "    }\n",
       "\n",
       "    .dataframe tbody tr th {\n",
       "        vertical-align: top;\n",
       "    }\n",
       "\n",
       "    .dataframe thead th {\n",
       "        text-align: right;\n",
       "    }\n",
       "</style>\n",
       "<table border=\"1\" class=\"dataframe\">\n",
       "  <thead>\n",
       "    <tr style=\"text-align: right;\">\n",
       "      <th></th>\n",
       "      <th>Method</th>\n",
       "      <th>RMSE</th>\n",
       "      <th>MSE</th>\n",
       "      <th>MAE</th>\n",
       "      <th>R2</th>\n",
       "      <th>Adj_R2</th>\n",
       "    </tr>\n",
       "  </thead>\n",
       "  <tbody>\n",
       "    <tr>\n",
       "      <th>0</th>\n",
       "      <td>Random Forest Train</td>\n",
       "      <td>4.056885</td>\n",
       "      <td>16.458312</td>\n",
       "      <td>3.260154</td>\n",
       "      <td>0.846128</td>\n",
       "      <td>0.846122</td>\n",
       "    </tr>\n",
       "  </tbody>\n",
       "</table>\n",
       "</div>"
      ],
      "text/plain": [
       "                Method      RMSE        MSE       MAE        R2    Adj_R2\n",
       "0  Random Forest Train  4.056885  16.458312  3.260154  0.846128  0.846122"
      ]
     },
     "execution_count": 159,
     "metadata": {},
     "output_type": "execute_result"
    }
   ],
   "source": [
    "rmse_rf = np.sqrt(mean_squared_error(y_train, y_pred_rf_train))\n",
    "mse_rf = mean_squared_error(y_train, y_pred_rf_train)\n",
    "mae_rf = mean_absolute_error(y_train, y_pred_rf_train)\n",
    "r2_rf = r2_score(y_train, y_pred_rf_train)\n",
    "adjr2_rf = 1-(1-r2_rf)*(len(y_train)-1)/(len(y_train)-len(X_train.columns)-1)\n",
    "\n",
    "resultsDf1 = pd.DataFrame({'Method':['Random Forest Train'], 'RMSE': rmse_rf , 'MSE': mse_rf , 'MAE': mae_rf ,\"R2\": r2_rf, 'Adj_R2': adjr2_rf})\n",
    "resultsDf1"
   ]
  },
  {
   "cell_type": "markdown",
   "metadata": {},
   "source": [
    "## Dataframe of predicted vs actual HR"
   ]
  },
  {
   "cell_type": "code",
   "execution_count": 160,
   "metadata": {},
   "outputs": [
    {
     "data": {
      "text/html": [
       "<div>\n",
       "<style scoped>\n",
       "    .dataframe tbody tr th:only-of-type {\n",
       "        vertical-align: middle;\n",
       "    }\n",
       "\n",
       "    .dataframe tbody tr th {\n",
       "        vertical-align: top;\n",
       "    }\n",
       "\n",
       "    .dataframe thead th {\n",
       "        text-align: right;\n",
       "    }\n",
       "</style>\n",
       "<table border=\"1\" class=\"dataframe\">\n",
       "  <thead>\n",
       "    <tr style=\"text-align: right;\">\n",
       "      <th></th>\n",
       "      <th>HR</th>\n",
       "      <th>predictedHR_RF</th>\n",
       "    </tr>\n",
       "    <tr>\n",
       "      <th>uuid</th>\n",
       "      <th></th>\n",
       "      <th></th>\n",
       "    </tr>\n",
       "  </thead>\n",
       "  <tbody>\n",
       "    <tr>\n",
       "      <th>80ffbdb6-9cee-44b7-91b3-cf26ac25e5d5</th>\n",
       "      <td>67.923866</td>\n",
       "      <td>69.346895</td>\n",
       "    </tr>\n",
       "    <tr>\n",
       "      <th>eb61e4c8-c28f-4087-82b8-b427a5a52bef</th>\n",
       "      <td>76.960355</td>\n",
       "      <td>79.549592</td>\n",
       "    </tr>\n",
       "    <tr>\n",
       "      <th>80f5f9e2-a85d-4a51-8b89-39505b206ccf</th>\n",
       "      <td>76.086628</td>\n",
       "      <td>79.549592</td>\n",
       "    </tr>\n",
       "    <tr>\n",
       "      <th>c81a3c50-ee66-459a-9d55-a8261093c724</th>\n",
       "      <td>74.739285</td>\n",
       "      <td>79.549592</td>\n",
       "    </tr>\n",
       "    <tr>\n",
       "      <th>21eef6fc-3b7d-4ec7-a07e-202ca0075a4d</th>\n",
       "      <td>92.082130</td>\n",
       "      <td>96.580064</td>\n",
       "    </tr>\n",
       "    <tr>\n",
       "      <th>...</th>\n",
       "      <td>...</td>\n",
       "      <td>...</td>\n",
       "    </tr>\n",
       "    <tr>\n",
       "      <th>9d09efd1-8c82-4d48-9615-ba7d980635a2</th>\n",
       "      <td>56.797168</td>\n",
       "      <td>60.246170</td>\n",
       "    </tr>\n",
       "    <tr>\n",
       "      <th>f5f36380-eeeb-40c6-9d23-c23d253a3266</th>\n",
       "      <td>70.558553</td>\n",
       "      <td>69.346895</td>\n",
       "    </tr>\n",
       "    <tr>\n",
       "      <th>d219e619-cca3-4617-b297-ea2a06fac092</th>\n",
       "      <td>79.060016</td>\n",
       "      <td>79.549592</td>\n",
       "    </tr>\n",
       "    <tr>\n",
       "      <th>aad5f511-3ebd-469a-a156-708ae4a9097a</th>\n",
       "      <td>71.649756</td>\n",
       "      <td>69.346895</td>\n",
       "    </tr>\n",
       "    <tr>\n",
       "      <th>14182c6b-60c8-4827-9f45-dc4486eda1e9</th>\n",
       "      <td>78.675666</td>\n",
       "      <td>79.549592</td>\n",
       "    </tr>\n",
       "  </tbody>\n",
       "</table>\n",
       "<p>36929 rows × 2 columns</p>\n",
       "</div>"
      ],
      "text/plain": [
       "                                             HR  predictedHR_RF\n",
       "uuid                                                           \n",
       "80ffbdb6-9cee-44b7-91b3-cf26ac25e5d5  67.923866       69.346895\n",
       "eb61e4c8-c28f-4087-82b8-b427a5a52bef  76.960355       79.549592\n",
       "80f5f9e2-a85d-4a51-8b89-39505b206ccf  76.086628       79.549592\n",
       "c81a3c50-ee66-459a-9d55-a8261093c724  74.739285       79.549592\n",
       "21eef6fc-3b7d-4ec7-a07e-202ca0075a4d  92.082130       96.580064\n",
       "...                                         ...             ...\n",
       "9d09efd1-8c82-4d48-9615-ba7d980635a2  56.797168       60.246170\n",
       "f5f36380-eeeb-40c6-9d23-c23d253a3266  70.558553       69.346895\n",
       "d219e619-cca3-4617-b297-ea2a06fac092  79.060016       79.549592\n",
       "aad5f511-3ebd-469a-a156-708ae4a9097a  71.649756       69.346895\n",
       "14182c6b-60c8-4827-9f45-dc4486eda1e9  78.675666       79.549592\n",
       "\n",
       "[36929 rows x 2 columns]"
      ]
     },
     "execution_count": 160,
     "metadata": {},
     "output_type": "execute_result"
    }
   ],
   "source": [
    "pred_vs_actual = pd.DataFrame(y_val)\n",
    "pred_vs_actual['predictedHR_RF'] = y_pred_rf_val\n",
    "pred_vs_actual"
   ]
  },
  {
   "cell_type": "code",
   "execution_count": 161,
   "metadata": {},
   "outputs": [
    {
     "data": {
      "text/plain": [
       "Index(['HF_PCT', 'HF_LF', 'sampen', 'higuci', 'MEAN_RR', 'SDRR', 'SDSD',\n",
       "       'SDRR_RMSSD', 'HR', 'pNN25', 'pNN50', 'KURT', 'SKEW', 'SDSD_REL_RR'],\n",
       "      dtype='object')"
      ]
     },
     "execution_count": 161,
     "metadata": {},
     "output_type": "execute_result"
    }
   ],
   "source": [
    "dftrain.columns"
   ]
  },
  {
   "cell_type": "code",
   "execution_count": 162,
   "metadata": {},
   "outputs": [
    {
     "data": {
      "text/plain": [
       "Index(['HF_PCT', 'HF_LF', 'sampen', 'higuci', 'MEAN_RR', 'SDRR', 'SDSD',\n",
       "       'SDRR_RMSSD', 'pNN25', 'pNN50', 'KURT', 'SKEW', 'SDSD_REL_RR'],\n",
       "      dtype='object')"
      ]
     },
     "execution_count": 162,
     "metadata": {},
     "output_type": "execute_result"
    }
   ],
   "source": [
    "dftest.columns"
   ]
  },
  {
   "cell_type": "markdown",
   "metadata": {},
   "source": [
    "# Preform on test data"
   ]
  },
  {
   "cell_type": "code",
   "execution_count": 163,
   "metadata": {},
   "outputs": [],
   "source": [
    "y_pred_rf_test=rf.predict(dftest)"
   ]
  },
  {
   "cell_type": "code",
   "execution_count": 164,
   "metadata": {},
   "outputs": [],
   "source": [
    "pred_test = pd.DataFrame(dftest)\n",
    "pred_test['HR'] = y_pred_rf_test\n"
   ]
  },
  {
   "cell_type": "code",
   "execution_count": 165,
   "metadata": {},
   "outputs": [
    {
     "data": {
      "text/plain": [
       "Index(['HF_PCT', 'HF_LF', 'sampen', 'higuci', 'MEAN_RR', 'SDRR', 'SDSD',\n",
       "       'SDRR_RMSSD', 'pNN25', 'pNN50', 'KURT', 'SKEW', 'SDSD_REL_RR', 'HR'],\n",
       "      dtype='object')"
      ]
     },
     "execution_count": 165,
     "metadata": {},
     "output_type": "execute_result"
    }
   ],
   "source": [
    "pred_test.columns"
   ]
  },
  {
   "cell_type": "code",
   "execution_count": 167,
   "metadata": {},
   "outputs": [],
   "source": [
    "Submission_yhats = pred_test.drop(['HF_PCT', 'HF_LF', 'sampen', 'higuci', 'MEAN_RR', 'SDRR', 'SDSD',\n",
    "       'SDRR_RMSSD', 'pNN25', 'pNN50', 'KURT', 'SKEW', 'SDSD_REL_RR'], axis=1)"
   ]
  },
  {
   "cell_type": "markdown",
   "metadata": {},
   "source": [
    "# First Submission"
   ]
  },
  {
   "cell_type": "code",
   "execution_count": 168,
   "metadata": {},
   "outputs": [
    {
     "data": {
      "text/html": [
       "<div>\n",
       "<style scoped>\n",
       "    .dataframe tbody tr th:only-of-type {\n",
       "        vertical-align: middle;\n",
       "    }\n",
       "\n",
       "    .dataframe tbody tr th {\n",
       "        vertical-align: top;\n",
       "    }\n",
       "\n",
       "    .dataframe thead th {\n",
       "        text-align: right;\n",
       "    }\n",
       "</style>\n",
       "<table border=\"1\" class=\"dataframe\">\n",
       "  <thead>\n",
       "    <tr style=\"text-align: right;\">\n",
       "      <th></th>\n",
       "      <th>HR</th>\n",
       "    </tr>\n",
       "    <tr>\n",
       "      <th>uuid</th>\n",
       "      <th></th>\n",
       "    </tr>\n",
       "  </thead>\n",
       "  <tbody>\n",
       "    <tr>\n",
       "      <th>62b75db5-bc40-4c8f-9166-daf0efcab4c2</th>\n",
       "      <td>69.346895</td>\n",
       "    </tr>\n",
       "    <tr>\n",
       "      <th>a99549ad-3eb6-4413-bc90-9053e7f7e684</th>\n",
       "      <td>79.549592</td>\n",
       "    </tr>\n",
       "    <tr>\n",
       "      <th>cb573d3a-c767-4556-b32e-ad8c08ded214</th>\n",
       "      <td>69.346895</td>\n",
       "    </tr>\n",
       "    <tr>\n",
       "      <th>47a0c6de-2aef-4ac3-997d-252fa6fd07f1</th>\n",
       "      <td>60.246170</td>\n",
       "    </tr>\n",
       "    <tr>\n",
       "      <th>de3fd54f-c74e-4fe8-bf2a-7a127f68b312</th>\n",
       "      <td>79.549592</td>\n",
       "    </tr>\n",
       "    <tr>\n",
       "      <th>...</th>\n",
       "      <td>...</td>\n",
       "    </tr>\n",
       "    <tr>\n",
       "      <th>11253232-cf0a-4c40-abfb-ac2795effd9b</th>\n",
       "      <td>79.549592</td>\n",
       "    </tr>\n",
       "    <tr>\n",
       "      <th>38052c36-d08d-4305-905b-830f600ce2b9</th>\n",
       "      <td>96.580064</td>\n",
       "    </tr>\n",
       "    <tr>\n",
       "      <th>8ef3781b-512f-42ce-bcfd-47f5c1070bb0</th>\n",
       "      <td>60.246170</td>\n",
       "    </tr>\n",
       "    <tr>\n",
       "      <th>2bf689f3-af22-426d-91cf-e9e173ad3a54</th>\n",
       "      <td>79.549592</td>\n",
       "    </tr>\n",
       "    <tr>\n",
       "      <th>0b654db0-e4d3-4ba3-b9ce-9c9291c8271e</th>\n",
       "      <td>79.549592</td>\n",
       "    </tr>\n",
       "  </tbody>\n",
       "</table>\n",
       "<p>41033 rows × 1 columns</p>\n",
       "</div>"
      ],
      "text/plain": [
       "                                             HR\n",
       "uuid                                           \n",
       "62b75db5-bc40-4c8f-9166-daf0efcab4c2  69.346895\n",
       "a99549ad-3eb6-4413-bc90-9053e7f7e684  79.549592\n",
       "cb573d3a-c767-4556-b32e-ad8c08ded214  69.346895\n",
       "47a0c6de-2aef-4ac3-997d-252fa6fd07f1  60.246170\n",
       "de3fd54f-c74e-4fe8-bf2a-7a127f68b312  79.549592\n",
       "...                                         ...\n",
       "11253232-cf0a-4c40-abfb-ac2795effd9b  79.549592\n",
       "38052c36-d08d-4305-905b-830f600ce2b9  96.580064\n",
       "8ef3781b-512f-42ce-bcfd-47f5c1070bb0  60.246170\n",
       "2bf689f3-af22-426d-91cf-e9e173ad3a54  79.549592\n",
       "0b654db0-e4d3-4ba3-b9ce-9c9291c8271e  79.549592\n",
       "\n",
       "[41033 rows x 1 columns]"
      ]
     },
     "execution_count": 168,
     "metadata": {},
     "output_type": "execute_result"
    }
   ],
   "source": [
    "Submission_yhats"
   ]
  },
  {
   "cell_type": "code",
   "execution_count": 526,
   "metadata": {},
   "outputs": [],
   "source": [
    "Submission_yhats.to_csv ('submission19.csv', index = True, header=True)"
   ]
  }
 ],
 "metadata": {
  "kernelspec": {
   "display_name": "Python 3",
   "language": "python",
   "name": "python3"
  },
  "language_info": {
   "codemirror_mode": {
    "name": "ipython",
    "version": 3
   },
   "file_extension": ".py",
   "mimetype": "text/x-python",
   "name": "python",
   "nbconvert_exporter": "python",
   "pygments_lexer": "ipython3",
   "version": "3.8.3"
  }
 },
 "nbformat": 4,
 "nbformat_minor": 4
}
