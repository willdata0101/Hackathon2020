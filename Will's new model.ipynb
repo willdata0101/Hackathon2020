{
 "cells": [
  {
   "cell_type": "code",
   "execution_count": 1,
   "metadata": {},
   "outputs": [],
   "source": [
    "import tensorflow as tf\n",
    "from tensorflow import keras"
   ]
  },
  {
   "cell_type": "code",
   "execution_count": 2,
   "metadata": {},
   "outputs": [
    {
     "name": "stderr",
     "output_type": "stream",
     "text": [
      "C:\\Users\\William\\Anaconda3\\lib\\site-packages\\dask\\dataframe\\utils.py:14: FutureWarning: pandas.util.testing is deprecated. Use the functions in the public API at pandas.testing instead.\n",
      "  import pandas.util.testing as tm\n"
     ]
    }
   ],
   "source": [
    "import pandas as pd\n",
    "import numpy as np\n",
    "from tensorflow.keras.models import Sequential\n",
    "from tensorflow.keras import layers\n",
    "from sklearn.model_selection import train_test_split\n",
    "from sklearn.preprocessing import StandardScaler\n",
    "from sklearn.compose import ColumnTransformer\n",
    "from sklearn.linear_model import LinearRegression\n",
    "from sklearn.ensemble import RandomForestRegressor\n",
    "from sklearn.tree import DecisionTreeRegressor\n",
    "from sklearn import tree\n",
    "import xgboost as xb\n",
    "\n",
    "#Hyperparameter tuning modules\n",
    "from sklearn.model_selection import GridSearchCV\n",
    "from sklearn.model_selection import RandomizedSearchCV\n",
    "from scipy.stats import randint as sp_randint\n",
    "from tensorflow.keras.wrappers.scikit_learn import KerasRegressor\n",
    "from sklearn.metrics import mean_squared_error, mean_absolute_error\n",
    "from sklearn.metrics import make_scorer\n",
    "import matplotlib.pyplot as plt\n",
    "%matplotlib inline\n",
    "\n",
    "from tensorflow.keras.callbacks import EarlyStopping"
   ]
  },
  {
   "cell_type": "code",
   "execution_count": 3,
   "metadata": {},
   "outputs": [],
   "source": [
    "import warnings\n",
    "warnings.filterwarnings(\"ignore\")"
   ]
  },
  {
   "cell_type": "code",
   "execution_count": 4,
   "metadata": {},
   "outputs": [],
   "source": [
    "# Reading training datasets\n",
    "frequency = pd.read_csv('frequency_domain_features_train.csv')\n",
    "heart_rate = pd.read_csv('heart_rate_non_linear_features_train.csv')\n",
    "time_domain = pd.read_csv('time_domain_features_train.csv')"
   ]
  },
  {
   "cell_type": "code",
   "execution_count": 5,
   "metadata": {},
   "outputs": [],
   "source": [
    "train = heart_rate.merge(frequency, how = 'inner', on = 'uuid')\n",
    "train = train.merge(time_domain, how = 'inner', on = 'uuid')"
   ]
  },
  {
   "cell_type": "code",
   "execution_count": 116,
   "metadata": {},
   "outputs": [
    {
     "data": {
      "text/plain": [
       "0    69.499952\n",
       "1    64.363150\n",
       "2    67.450066\n",
       "3    68.809562\n",
       "4    74.565728\n",
       "Name: HR, dtype: float64"
      ]
     },
     "execution_count": 116,
     "metadata": {},
     "output_type": "execute_result"
    }
   ],
   "source": [
    "train['HR'].head()"
   ]
  },
  {
   "cell_type": "code",
   "execution_count": 7,
   "metadata": {},
   "outputs": [],
   "source": [
    "train.drop(['uuid', 'condition'], inplace=True, axis=1)"
   ]
  },
  {
   "cell_type": "code",
   "execution_count": 8,
   "metadata": {},
   "outputs": [
    {
     "data": {
      "text/html": [
       "<div>\n",
       "<style scoped>\n",
       "    .dataframe tbody tr th:only-of-type {\n",
       "        vertical-align: middle;\n",
       "    }\n",
       "\n",
       "    .dataframe tbody tr th {\n",
       "        vertical-align: top;\n",
       "    }\n",
       "\n",
       "    .dataframe thead th {\n",
       "        text-align: right;\n",
       "    }\n",
       "</style>\n",
       "<table border=\"1\" class=\"dataframe\">\n",
       "  <thead>\n",
       "    <tr style=\"text-align: right;\">\n",
       "      <th></th>\n",
       "      <th>SD1</th>\n",
       "      <th>SD2</th>\n",
       "      <th>sampen</th>\n",
       "      <th>higuci</th>\n",
       "      <th>datasetId</th>\n",
       "      <th>VLF</th>\n",
       "      <th>VLF_PCT</th>\n",
       "      <th>LF</th>\n",
       "      <th>LF_PCT</th>\n",
       "      <th>LF_NU</th>\n",
       "      <th>...</th>\n",
       "      <th>KURT</th>\n",
       "      <th>SKEW</th>\n",
       "      <th>MEAN_REL_RR</th>\n",
       "      <th>MEDIAN_REL_RR</th>\n",
       "      <th>SDRR_REL_RR</th>\n",
       "      <th>RMSSD_REL_RR</th>\n",
       "      <th>SDSD_REL_RR</th>\n",
       "      <th>SDRR_RMSSD_REL_RR</th>\n",
       "      <th>KURT_REL_RR</th>\n",
       "      <th>SKEW_REL_RR</th>\n",
       "    </tr>\n",
       "  </thead>\n",
       "  <tbody>\n",
       "    <tr>\n",
       "      <th>0</th>\n",
       "      <td>11.001565</td>\n",
       "      <td>199.061782</td>\n",
       "      <td>2.139754</td>\n",
       "      <td>1.163485</td>\n",
       "      <td>2</td>\n",
       "      <td>2661.894136</td>\n",
       "      <td>72.203287</td>\n",
       "      <td>1009.249419</td>\n",
       "      <td>27.375666</td>\n",
       "      <td>98.485263</td>\n",
       "      <td>...</td>\n",
       "      <td>-0.856554</td>\n",
       "      <td>0.335218</td>\n",
       "      <td>-0.000203</td>\n",
       "      <td>-0.000179</td>\n",
       "      <td>0.017080</td>\n",
       "      <td>0.007969</td>\n",
       "      <td>0.007969</td>\n",
       "      <td>2.143342</td>\n",
       "      <td>-0.856554</td>\n",
       "      <td>0.335218</td>\n",
       "    </tr>\n",
       "    <tr>\n",
       "      <th>1</th>\n",
       "      <td>9.170129</td>\n",
       "      <td>114.634458</td>\n",
       "      <td>2.174499</td>\n",
       "      <td>1.084711</td>\n",
       "      <td>2</td>\n",
       "      <td>2314.265450</td>\n",
       "      <td>76.975728</td>\n",
       "      <td>690.113275</td>\n",
       "      <td>22.954139</td>\n",
       "      <td>99.695397</td>\n",
       "      <td>...</td>\n",
       "      <td>-0.408190</td>\n",
       "      <td>-0.155286</td>\n",
       "      <td>-0.000059</td>\n",
       "      <td>0.000611</td>\n",
       "      <td>0.013978</td>\n",
       "      <td>0.004769</td>\n",
       "      <td>0.004769</td>\n",
       "      <td>2.930855</td>\n",
       "      <td>-0.408190</td>\n",
       "      <td>-0.155286</td>\n",
       "    </tr>\n",
       "    <tr>\n",
       "      <th>2</th>\n",
       "      <td>11.533417</td>\n",
       "      <td>118.939253</td>\n",
       "      <td>2.135350</td>\n",
       "      <td>1.176315</td>\n",
       "      <td>2</td>\n",
       "      <td>1373.887112</td>\n",
       "      <td>51.152225</td>\n",
       "      <td>1298.222619</td>\n",
       "      <td>48.335104</td>\n",
       "      <td>98.950472</td>\n",
       "      <td>...</td>\n",
       "      <td>0.351789</td>\n",
       "      <td>-0.656813</td>\n",
       "      <td>-0.000011</td>\n",
       "      <td>-0.000263</td>\n",
       "      <td>0.018539</td>\n",
       "      <td>0.008716</td>\n",
       "      <td>0.008716</td>\n",
       "      <td>2.127053</td>\n",
       "      <td>0.351789</td>\n",
       "      <td>-0.656813</td>\n",
       "    </tr>\n",
       "    <tr>\n",
       "      <th>3</th>\n",
       "      <td>11.119476</td>\n",
       "      <td>127.318597</td>\n",
       "      <td>2.178341</td>\n",
       "      <td>1.179688</td>\n",
       "      <td>2</td>\n",
       "      <td>2410.357408</td>\n",
       "      <td>70.180308</td>\n",
       "      <td>1005.981659</td>\n",
       "      <td>29.290305</td>\n",
       "      <td>98.224706</td>\n",
       "      <td>...</td>\n",
       "      <td>-0.504947</td>\n",
       "      <td>-0.386138</td>\n",
       "      <td>0.000112</td>\n",
       "      <td>0.000494</td>\n",
       "      <td>0.017761</td>\n",
       "      <td>0.008660</td>\n",
       "      <td>0.008660</td>\n",
       "      <td>2.050988</td>\n",
       "      <td>-0.504947</td>\n",
       "      <td>-0.386138</td>\n",
       "    </tr>\n",
       "    <tr>\n",
       "      <th>4</th>\n",
       "      <td>13.590641</td>\n",
       "      <td>87.718281</td>\n",
       "      <td>2.221121</td>\n",
       "      <td>1.249612</td>\n",
       "      <td>2</td>\n",
       "      <td>1151.177330</td>\n",
       "      <td>43.918366</td>\n",
       "      <td>1421.782051</td>\n",
       "      <td>54.242160</td>\n",
       "      <td>96.720007</td>\n",
       "      <td>...</td>\n",
       "      <td>-0.548408</td>\n",
       "      <td>-0.154252</td>\n",
       "      <td>-0.000100</td>\n",
       "      <td>-0.002736</td>\n",
       "      <td>0.023715</td>\n",
       "      <td>0.013055</td>\n",
       "      <td>0.013055</td>\n",
       "      <td>1.816544</td>\n",
       "      <td>-0.548408</td>\n",
       "      <td>-0.154252</td>\n",
       "    </tr>\n",
       "  </tbody>\n",
       "</table>\n",
       "<p>5 rows × 35 columns</p>\n",
       "</div>"
      ],
      "text/plain": [
       "         SD1         SD2    sampen    higuci  datasetId          VLF  \\\n",
       "0  11.001565  199.061782  2.139754  1.163485          2  2661.894136   \n",
       "1   9.170129  114.634458  2.174499  1.084711          2  2314.265450   \n",
       "2  11.533417  118.939253  2.135350  1.176315          2  1373.887112   \n",
       "3  11.119476  127.318597  2.178341  1.179688          2  2410.357408   \n",
       "4  13.590641   87.718281  2.221121  1.249612          2  1151.177330   \n",
       "\n",
       "     VLF_PCT           LF     LF_PCT      LF_NU  ...      KURT      SKEW  \\\n",
       "0  72.203287  1009.249419  27.375666  98.485263  ... -0.856554  0.335218   \n",
       "1  76.975728   690.113275  22.954139  99.695397  ... -0.408190 -0.155286   \n",
       "2  51.152225  1298.222619  48.335104  98.950472  ...  0.351789 -0.656813   \n",
       "3  70.180308  1005.981659  29.290305  98.224706  ... -0.504947 -0.386138   \n",
       "4  43.918366  1421.782051  54.242160  96.720007  ... -0.548408 -0.154252   \n",
       "\n",
       "   MEAN_REL_RR  MEDIAN_REL_RR  SDRR_REL_RR  RMSSD_REL_RR  SDSD_REL_RR  \\\n",
       "0    -0.000203      -0.000179     0.017080      0.007969     0.007969   \n",
       "1    -0.000059       0.000611     0.013978      0.004769     0.004769   \n",
       "2    -0.000011      -0.000263     0.018539      0.008716     0.008716   \n",
       "3     0.000112       0.000494     0.017761      0.008660     0.008660   \n",
       "4    -0.000100      -0.002736     0.023715      0.013055     0.013055   \n",
       "\n",
       "   SDRR_RMSSD_REL_RR  KURT_REL_RR  SKEW_REL_RR  \n",
       "0           2.143342    -0.856554     0.335218  \n",
       "1           2.930855    -0.408190    -0.155286  \n",
       "2           2.127053     0.351789    -0.656813  \n",
       "3           2.050988    -0.504947    -0.386138  \n",
       "4           1.816544    -0.548408    -0.154252  \n",
       "\n",
       "[5 rows x 35 columns]"
      ]
     },
     "execution_count": 8,
     "metadata": {},
     "output_type": "execute_result"
    }
   ],
   "source": [
    "train.head()"
   ]
  },
  {
   "cell_type": "code",
   "execution_count": 9,
   "metadata": {},
   "outputs": [
    {
     "data": {
      "text/plain": [
       "(369289, 35)"
      ]
     },
     "execution_count": 9,
     "metadata": {},
     "output_type": "execute_result"
    }
   ],
   "source": [
    "train.shape"
   ]
  },
  {
   "cell_type": "code",
   "execution_count": 10,
   "metadata": {},
   "outputs": [],
   "source": [
    "# Dropping columns Joe suggested\n",
    "cols = ['datasetId', 'SD2', 'SDRR_RMSSD_REL_RR', 'SDRR_REL_RR', 'MEAN_REL_RR', 'RMSSD_REL_RR', 'MEDIAN_REL_RR', 'RMSSD', 'LF_PCT', 'SKEW_REL_RR', 'HF', 'LF_NU', 'HF_NU', 'SD1', 'KURT_REL_RR']\n",
    "train.drop(cols, inplace=True, axis=1)"
   ]
  },
  {
   "cell_type": "code",
   "execution_count": 11,
   "metadata": {},
   "outputs": [],
   "source": [
    "# Train/valid/test split\n",
    "X = train.drop('HR', axis=1)\n",
    "y = train['HR']"
   ]
  },
  {
   "cell_type": "code",
   "execution_count": 93,
   "metadata": {},
   "outputs": [],
   "source": [
    "X_train, X_test, y_train, y_test = train_test_split(X, y, test_size=0.3, random_state=7)"
   ]
  },
  {
   "cell_type": "code",
   "execution_count": 13,
   "metadata": {},
   "outputs": [],
   "source": [
    "# Creating function to design model\n",
    "\n",
    "def design_model(X=X_train, learning_rate=5):\n",
    "    model = Sequential(name='model')\n",
    "    input = tf.keras.Input(shape=(X.shape[1],))\n",
    "    model.add(input)\n",
    "    # Adding one hidden layer\n",
    "    model.add(layers.Dense(128, activation='relu'))\n",
    "    model.add(layers.Dropout(0.1))\n",
    "    model.add(layers.Dense(64, activation='relu'))\n",
    "    model.add(layers.Dropout(0.2))\n",
    "    model.add(layers.Dense(32, activation='relu'))\n",
    "    model.add(layers.Dropout(0.3))\n",
    "    model.add(layers.Dense(1))\n",
    "    opt = tf.keras.optimizers.Adam(learning_rate=learning_rate)\n",
    "    model.compile(loss='mse', metrics=['mae'], optimizer=opt)\n",
    "    return model"
   ]
  },
  {
   "cell_type": "code",
   "execution_count": 14,
   "metadata": {},
   "outputs": [],
   "source": [
    "y_train = np.asarray(y_train)\n",
    "y_test = np.asarray(y_test)"
   ]
  },
  {
   "cell_type": "code",
   "execution_count": 15,
   "metadata": {},
   "outputs": [],
   "source": [
    "def fit_model(model, X_train, y_train, num_epochs):\n",
    "    es = EarlyStopping(monitor='val_loss', mode='min', verbose=1, patience=20)\n",
    "    history = model.fit(X_train, y_train, epochs=num_epochs, batch_size=30, verbose=1, validation_split=0.3, callbacks=[es])\n",
    "    return history"
   ]
  },
  {
   "cell_type": "code",
   "execution_count": 16,
   "metadata": {},
   "outputs": [
    {
     "name": "stdout",
     "output_type": "stream",
     "text": [
      "Model: \"model\"\n",
      "_________________________________________________________________\n",
      "Layer (type)                 Output Shape              Param #   \n",
      "=================================================================\n",
      "dense (Dense)                (None, 128)               2560      \n",
      "_________________________________________________________________\n",
      "dropout (Dropout)            (None, 128)               0         \n",
      "_________________________________________________________________\n",
      "dense_1 (Dense)              (None, 64)                8256      \n",
      "_________________________________________________________________\n",
      "dropout_1 (Dropout)          (None, 64)                0         \n",
      "_________________________________________________________________\n",
      "dense_2 (Dense)              (None, 32)                2080      \n",
      "_________________________________________________________________\n",
      "dropout_2 (Dropout)          (None, 32)                0         \n",
      "_________________________________________________________________\n",
      "dense_3 (Dense)              (None, 1)                 33        \n",
      "=================================================================\n",
      "Total params: 12,929\n",
      "Trainable params: 12,929\n",
      "Non-trainable params: 0\n",
      "_________________________________________________________________\n"
     ]
    }
   ],
   "source": [
    "model = design_model(X_train, learning_rate=0.5)\n",
    "model.summary()"
   ]
  },
  {
   "cell_type": "code",
   "execution_count": 17,
   "metadata": {},
   "outputs": [],
   "source": [
    "#fit_model(model, X_train, y_train, num_epochs=30)"
   ]
  },
  {
   "cell_type": "code",
   "execution_count": 18,
   "metadata": {},
   "outputs": [],
   "source": [
    "#model.fit(X_train, y_train, validation_split=0.3, verbose=1)"
   ]
  },
  {
   "cell_type": "code",
   "execution_count": 19,
   "metadata": {},
   "outputs": [],
   "source": [
    "val_mse, val_mae = model.evaluate(X_test, y_test, verbose=0)"
   ]
  },
  {
   "cell_type": "code",
   "execution_count": 20,
   "metadata": {},
   "outputs": [
    {
     "name": "stdout",
     "output_type": "stream",
     "text": [
      "MAE:  280.3956604003906\n"
     ]
    }
   ],
   "source": [
    "print(\"MAE: \", val_mae)"
   ]
  },
  {
   "cell_type": "code",
   "execution_count": 21,
   "metadata": {},
   "outputs": [],
   "source": [
    "model = design_model(X_train, learning_rate=2)"
   ]
  },
  {
   "cell_type": "code",
   "execution_count": 22,
   "metadata": {},
   "outputs": [
    {
     "data": {
      "text/plain": [
       "<tensorflow.python.keras.engine.sequential.Sequential at 0x1f705d5eac8>"
      ]
     },
     "execution_count": 22,
     "metadata": {},
     "output_type": "execute_result"
    }
   ],
   "source": [
    "model"
   ]
  },
  {
   "cell_type": "code",
   "execution_count": 23,
   "metadata": {},
   "outputs": [],
   "source": [
    "# Grid Search\n",
    "def do_grid_search():\n",
    "    batch_size = [6, 64]\n",
    "    epochs = [10, 40]\n",
    "    model = KerasRegressor(build_fn=design_model)\n",
    "    param_grid = dict(batch_size=batch_size, epochs=epochs)\n",
    "    grid = GridSearchCV(estimator=model, verbose=1, n_jobs=-1, param_grid=param_grid, scoring = make_scorer(mean_absolute_error, greater_is_better=False), return_train_score=True)\n",
    "    grid_result = grid.fit(X_train, y_train, verbose=0)\n",
    "    grid_result.best_estimator_\n",
    "    print(grid_result)\n",
    "    print(\"Best: %f using %s\" % (grid_result.best_score_, grid_result.best_params_))\n",
    "    \n",
    "    means = grid_result.cv_results_['mean_test_score']\n",
    "    stds = grid_result.cv_results_['std_test_score']\n",
    "    params = grid_result.cv_results_['params']\n",
    "    \n",
    "    for mean, stdev, param in zip(means, stds, params):\n",
    "        print(\"%f (%f) with: %r\" % (mean, stdev, param))\n",
    "        \n",
    "    print(\"Training\")\n",
    "    \n",
    "    means = grid_result.cv_results_['mean_train_score']\n",
    "    stds = grid_result.cv_results_['std_train_score']\n",
    "    params = grid_result.cv_results_['params']\n",
    "    \n",
    "    for mean, stdev, param in zip(means, stds, params):\n",
    "        print(\"%f (%f) with: %r\" % (mean, stdev, param))"
   ]
  },
  {
   "cell_type": "code",
   "execution_count": 25,
   "metadata": {
    "scrolled": false
   },
   "outputs": [],
   "source": [
    "#do_grid_search()"
   ]
  },
  {
   "cell_type": "code",
   "execution_count": null,
   "metadata": {},
   "outputs": [],
   "source": []
  },
  {
   "cell_type": "code",
   "execution_count": null,
   "metadata": {},
   "outputs": [],
   "source": [
    "#-----------------Automated Stacking----------------------"
   ]
  },
  {
   "cell_type": "code",
   "execution_count": 26,
   "metadata": {},
   "outputs": [],
   "source": [
    "from vecstack import stacking"
   ]
  },
  {
   "cell_type": "code",
   "execution_count": 78,
   "metadata": {},
   "outputs": [],
   "source": [
    "models = [\n",
    "    LinearRegression(n_jobs=-1),\n",
    "    #RandomForestRegressor(random_state=7, max_depth=3),\n",
    "    xb.XGBRegressor(random_state=7, learning_rate=0.5, n_estimators=100, max_depth=3)\n",
    "]"
   ]
  },
  {
   "cell_type": "code",
   "execution_count": 79,
   "metadata": {},
   "outputs": [
    {
     "name": "stdout",
     "output_type": "stream",
     "text": [
      "task:         [regression]\n",
      "metric:       [mean_absolute_error]\n",
      "mode:         [oof_pred_bag]\n",
      "n_models:     [2]\n",
      "\n",
      "model  0:     [LinearRegression]\n",
      "    ----\n",
      "    MEAN:     [0.97043693] + [0.00559822]\n",
      "    FULL:     [0.97043693]\n",
      "\n",
      "model  1:     [XGBRegressor]\n",
      "    ----\n",
      "    MEAN:     [0.23966975] + [0.00680685]\n",
      "    FULL:     [0.23966973]\n",
      "\n"
     ]
    }
   ],
   "source": [
    "s_train, s_test = stacking(models, X_train, y_train, X_test, regression=True, random_state=7, verbose=1, n_folds=5, stratified=True)"
   ]
  },
  {
   "cell_type": "code",
   "execution_count": 80,
   "metadata": {},
   "outputs": [
    {
     "name": "stdout",
     "output_type": "stream",
     "text": [
      "Final MAE score: [0.16968266]\n"
     ]
    }
   ],
   "source": [
    "stacked_model = xb.XGBRegressor(random_state=7)\n",
    "\n",
    "stacked_model = model.fit(s_train, y_train)\n",
    "\n",
    "y_pred_stacked = stacked_model.predict(s_test)\n",
    "\n",
    "print(\"Final MAE score: [%.8f]\" % mean_absolute_error(y_test, y_pred_stacked))"
   ]
  },
  {
   "cell_type": "code",
   "execution_count": 82,
   "metadata": {},
   "outputs": [],
   "source": [
    "stacked_mae = mean_absolute_error(y_test, y_pred_stacked)"
   ]
  },
  {
   "cell_type": "code",
   "execution_count": 113,
   "metadata": {},
   "outputs": [],
   "source": [
    "y_preds = pd.DataFrame(data=y_pred_stacked, columns=['Stacking Pred'], index = X_test.index.copy())\n",
    "y_preds = pd.merge(train['HR'], y_preds, how='right', left_index=True, right_index=True)"
   ]
  },
  {
   "cell_type": "code",
   "execution_count": 118,
   "metadata": {},
   "outputs": [
    {
     "data": {
      "text/html": [
       "<div>\n",
       "<style scoped>\n",
       "    .dataframe tbody tr th:only-of-type {\n",
       "        vertical-align: middle;\n",
       "    }\n",
       "\n",
       "    .dataframe tbody tr th {\n",
       "        vertical-align: top;\n",
       "    }\n",
       "\n",
       "    .dataframe thead th {\n",
       "        text-align: right;\n",
       "    }\n",
       "</style>\n",
       "<table border=\"1\" class=\"dataframe\">\n",
       "  <thead>\n",
       "    <tr style=\"text-align: right;\">\n",
       "      <th></th>\n",
       "      <th>HR</th>\n",
       "      <th>Stacking Pred</th>\n",
       "    </tr>\n",
       "  </thead>\n",
       "  <tbody>\n",
       "    <tr>\n",
       "      <th>0</th>\n",
       "      <td>73.980817</td>\n",
       "      <td>73.917488</td>\n",
       "    </tr>\n",
       "    <tr>\n",
       "      <th>1</th>\n",
       "      <td>64.062723</td>\n",
       "      <td>64.167236</td>\n",
       "    </tr>\n",
       "    <tr>\n",
       "      <th>2</th>\n",
       "      <td>67.593559</td>\n",
       "      <td>67.563293</td>\n",
       "    </tr>\n",
       "    <tr>\n",
       "      <th>3</th>\n",
       "      <td>79.994453</td>\n",
       "      <td>79.941299</td>\n",
       "    </tr>\n",
       "    <tr>\n",
       "      <th>4</th>\n",
       "      <td>54.921336</td>\n",
       "      <td>55.469967</td>\n",
       "    </tr>\n",
       "    <tr>\n",
       "      <th>...</th>\n",
       "      <td>...</td>\n",
       "      <td>...</td>\n",
       "    </tr>\n",
       "    <tr>\n",
       "      <th>110782</th>\n",
       "      <td>86.813935</td>\n",
       "      <td>86.651764</td>\n",
       "    </tr>\n",
       "    <tr>\n",
       "      <th>110783</th>\n",
       "      <td>78.122775</td>\n",
       "      <td>77.721497</td>\n",
       "    </tr>\n",
       "    <tr>\n",
       "      <th>110784</th>\n",
       "      <td>66.340979</td>\n",
       "      <td>66.192177</td>\n",
       "    </tr>\n",
       "    <tr>\n",
       "      <th>110785</th>\n",
       "      <td>68.910415</td>\n",
       "      <td>68.789719</td>\n",
       "    </tr>\n",
       "    <tr>\n",
       "      <th>110786</th>\n",
       "      <td>77.073993</td>\n",
       "      <td>76.964943</td>\n",
       "    </tr>\n",
       "  </tbody>\n",
       "</table>\n",
       "<p>110787 rows × 2 columns</p>\n",
       "</div>"
      ],
      "text/plain": [
       "               HR  Stacking Pred\n",
       "0       73.980817      73.917488\n",
       "1       64.062723      64.167236\n",
       "2       67.593559      67.563293\n",
       "3       79.994453      79.941299\n",
       "4       54.921336      55.469967\n",
       "...           ...            ...\n",
       "110782  86.813935      86.651764\n",
       "110783  78.122775      77.721497\n",
       "110784  66.340979      66.192177\n",
       "110785  68.910415      68.789719\n",
       "110786  77.073993      76.964943\n",
       "\n",
       "[110787 rows x 2 columns]"
      ]
     },
     "execution_count": 118,
     "metadata": {},
     "output_type": "execute_result"
    }
   ],
   "source": [
    "y_preds.reset_index(drop=True)"
   ]
  },
  {
   "cell_type": "code",
   "execution_count": null,
   "metadata": {},
   "outputs": [],
   "source": [
    "# Finally figured it out - HR column is actual values"
   ]
  }
 ],
 "metadata": {
  "kernelspec": {
   "display_name": "Python 3",
   "language": "python",
   "name": "python3"
  },
  "language_info": {
   "codemirror_mode": {
    "name": "ipython",
    "version": 3
   },
   "file_extension": ".py",
   "mimetype": "text/x-python",
   "name": "python",
   "nbconvert_exporter": "python",
   "pygments_lexer": "ipython3",
   "version": "3.7.4"
  }
 },
 "nbformat": 4,
 "nbformat_minor": 2
}
